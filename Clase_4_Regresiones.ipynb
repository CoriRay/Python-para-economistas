{
  "nbformat": 4,
  "nbformat_minor": 0,
  "metadata": {
    "colab": {
      "name": "Clase 4 - Regresiones.ipynb",
      "provenance": [],
      "authorship_tag": "ABX9TyNPD1VXHGbreYBaAQVT3xAv",
      "include_colab_link": true
    },
    "kernelspec": {
      "name": "python3",
      "display_name": "Python 3"
    }
  },
  "cells": [
    {
      "cell_type": "markdown",
      "metadata": {
        "id": "view-in-github",
        "colab_type": "text"
      },
      "source": [
        "<a href=\"https://colab.research.google.com/github/CoriRay/Python-para-economistas/blob/master/Clase_4_Regresiones.ipynb\" target=\"_parent\"><img src=\"https://colab.research.google.com/assets/colab-badge.svg\" alt=\"Open In Colab\"/></a>"
      ]
    },
    {
      "cell_type": "code",
      "metadata": {
        "id": "-Hu5jWfJYusW",
        "colab_type": "code",
        "colab": {}
      },
      "source": [
        "import pandas as pd\n",
        "import numpy as np"
      ],
      "execution_count": 0,
      "outputs": []
    },
    {
      "cell_type": "markdown",
      "metadata": {
        "id": "zsAVyIn1s9KH",
        "colab_type": "text"
      },
      "source": [
        "\n",
        "**Parte 1 : Regresión Lineal Simple**"
      ]
    },
    {
      "cell_type": "code",
      "metadata": {
        "id": "qe-PBmNPZQAc",
        "colab_type": "code",
        "colab": {}
      },
      "source": [
        "#La data para la primera regresión fue extraída del BCRP. \n",
        "#Sitios web, como el del BCRP cuentan con información cifrada o algún tipo de certificado.\n",
        "#El siguiente código permite desbloquear data con las restricciones antes mencionadas.\n",
        "#https://medium.com/@moreless/how-to-fix-python-ssl-certificate-verify-failed-97772d9dd14c \n",
        "import os, ssl\n",
        "if (not os.environ.get('PYTHONHTTPSVERIFY', '') and getattr(ssl, '_create_unverified_context', None)):\n",
        "  ssl._create_default_https_context = ssl._create_unverified_context"
      ],
      "execution_count": 0,
      "outputs": []
    },
    {
      "cell_type": "code",
      "metadata": {
        "id": "anwsntKtXvKN",
        "colab_type": "code",
        "colab": {}
      },
      "source": [
        "#Se tomó data del PBI mensual y las exportaciones tradicionales mensuales. Procederamos a cargarlas:\n",
        "link1=('https://estadisticas.bcrp.gob.pe/estadisticas/series/mensuales/resultados/PN01770AM/html')\n",
        "bcrp_pbi=pd.read_html(link1)\n"
      ],
      "execution_count": 0,
      "outputs": []
    },
    {
      "cell_type": "code",
      "metadata": {
        "id": "p_fbcqMnOt5_",
        "colab_type": "code",
        "colab": {}
      },
      "source": [
        "#Observemos también que la página del BCRP cuenta con un conjunto de tablas. Pandas toma cada tabla como si fuera un elemento. El elemento\n",
        "#1   \n",
        "pbi=bcrp_pbi[1]"
      ],
      "execution_count": 0,
      "outputs": []
    },
    {
      "cell_type": "code",
      "metadata": {
        "id": "cz08F0naYjWq",
        "colab_type": "code",
        "outputId": "df99e1e2-479c-429f-b490-a7564e30d610",
        "colab": {
          "base_uri": "https://localhost:8080/",
          "height": 198
        }
      },
      "source": [
        "pbi.head()"
      ],
      "execution_count": 0,
      "outputs": [
        {
          "output_type": "execute_result",
          "data": {
            "text/html": [
              "<div>\n",
              "<style scoped>\n",
              "    .dataframe tbody tr th:only-of-type {\n",
              "        vertical-align: middle;\n",
              "    }\n",
              "\n",
              "    .dataframe tbody tr th {\n",
              "        vertical-align: top;\n",
              "    }\n",
              "\n",
              "    .dataframe thead th {\n",
              "        text-align: right;\n",
              "    }\n",
              "</style>\n",
              "<table border=\"1\" class=\"dataframe\">\n",
              "  <thead>\n",
              "    <tr style=\"text-align: right;\">\n",
              "      <th></th>\n",
              "      <th>Fecha</th>\n",
              "      <th>Producto bruto interno y demanda interna (índice 2007=100) - PBI</th>\n",
              "    </tr>\n",
              "  </thead>\n",
              "  <tbody>\n",
              "    <tr>\n",
              "      <th>0</th>\n",
              "      <td>Ene03</td>\n",
              "      <td>73.2</td>\n",
              "    </tr>\n",
              "    <tr>\n",
              "      <th>1</th>\n",
              "      <td>Feb03</td>\n",
              "      <td>71.1</td>\n",
              "    </tr>\n",
              "    <tr>\n",
              "      <th>2</th>\n",
              "      <td>Mar03</td>\n",
              "      <td>74.3</td>\n",
              "    </tr>\n",
              "    <tr>\n",
              "      <th>3</th>\n",
              "      <td>Abr03</td>\n",
              "      <td>80.7</td>\n",
              "    </tr>\n",
              "    <tr>\n",
              "      <th>4</th>\n",
              "      <td>May03</td>\n",
              "      <td>83.2</td>\n",
              "    </tr>\n",
              "  </tbody>\n",
              "</table>\n",
              "</div>"
            ],
            "text/plain": [
              "   Fecha  Producto bruto interno y demanda interna (índice 2007=100) - PBI\n",
              "0  Ene03                                               73.2               \n",
              "1  Feb03                                               71.1               \n",
              "2  Mar03                                               74.3               \n",
              "3  Abr03                                               80.7               \n",
              "4  May03                                               83.2               "
            ]
          },
          "metadata": {
            "tags": []
          },
          "execution_count": 18
        }
      ]
    },
    {
      "cell_type": "code",
      "metadata": {
        "id": "FuqX9Fo-Z22b",
        "colab_type": "code",
        "colab": {}
      },
      "source": [
        "link2=('https://estadisticas.bcrp.gob.pe/estadisticas/series/mensuales/resultados/PN01449BM/html')\n",
        "bcrp_bc=pd.read_html(link2)\n",
        "bc=bcrp_bc[1]"
      ],
      "execution_count": 0,
      "outputs": []
    },
    {
      "cell_type": "code",
      "metadata": {
        "id": "j9np2lO1QBCE",
        "colab_type": "code",
        "outputId": "a67bf25e-a776-4dc5-dba3-5d78d55e805f",
        "colab": {
          "base_uri": "https://localhost:8080/",
          "height": 198
        }
      },
      "source": [
        "bc.head()"
      ],
      "execution_count": 0,
      "outputs": [
        {
          "output_type": "execute_result",
          "data": {
            "text/html": [
              "<div>\n",
              "<style scoped>\n",
              "    .dataframe tbody tr th:only-of-type {\n",
              "        vertical-align: middle;\n",
              "    }\n",
              "\n",
              "    .dataframe tbody tr th {\n",
              "        vertical-align: top;\n",
              "    }\n",
              "\n",
              "    .dataframe thead th {\n",
              "        text-align: right;\n",
              "    }\n",
              "</style>\n",
              "<table border=\"1\" class=\"dataframe\">\n",
              "  <thead>\n",
              "    <tr style=\"text-align: right;\">\n",
              "      <th></th>\n",
              "      <th>Fecha</th>\n",
              "      <th>Balanza comercial - valores FOB (millones US$) - Exportaciones - Productos Tradicionales</th>\n",
              "    </tr>\n",
              "  </thead>\n",
              "  <tbody>\n",
              "    <tr>\n",
              "      <th>0</th>\n",
              "      <td>Ene85</td>\n",
              "      <td>137</td>\n",
              "    </tr>\n",
              "    <tr>\n",
              "      <th>1</th>\n",
              "      <td>Feb85</td>\n",
              "      <td>164</td>\n",
              "    </tr>\n",
              "    <tr>\n",
              "      <th>2</th>\n",
              "      <td>Mar85</td>\n",
              "      <td>206</td>\n",
              "    </tr>\n",
              "    <tr>\n",
              "      <th>3</th>\n",
              "      <td>Abr85</td>\n",
              "      <td>202</td>\n",
              "    </tr>\n",
              "    <tr>\n",
              "      <th>4</th>\n",
              "      <td>May85</td>\n",
              "      <td>198</td>\n",
              "    </tr>\n",
              "  </tbody>\n",
              "</table>\n",
              "</div>"
            ],
            "text/plain": [
              "   Fecha  Balanza comercial - valores FOB (millones US$) - Exportaciones - Productos Tradicionales\n",
              "0  Ene85                                                137                                       \n",
              "1  Feb85                                                164                                       \n",
              "2  Mar85                                                206                                       \n",
              "3  Abr85                                                202                                       \n",
              "4  May85                                                198                                       "
            ]
          },
          "metadata": {
            "tags": []
          },
          "execution_count": 17
        }
      ]
    },
    {
      "cell_type": "code",
      "metadata": {
        "id": "f_Mc9d2AaMgs",
        "colab_type": "code",
        "outputId": "e6bd3364-0f06-4a75-83b8-f5834c17ae02",
        "colab": {
          "base_uri": "https://localhost:8080/",
          "height": 235
        }
      },
      "source": [
        "bc['Fecha'].head(301)"
      ],
      "execution_count": 0,
      "outputs": [
        {
          "output_type": "execute_result",
          "data": {
            "text/plain": [
              "0      Ene85\n",
              "1      Feb85\n",
              "2      Mar85\n",
              "3      Abr85\n",
              "4      May85\n",
              "       ...  \n",
              "296    Sep09\n",
              "297    Oct09\n",
              "298    Nov09\n",
              "299    Dic09\n",
              "300    Ene10\n",
              "Name: Fecha, Length: 301, dtype: object"
            ]
          },
          "metadata": {
            "tags": []
          },
          "execution_count": 20
        }
      ]
    },
    {
      "cell_type": "code",
      "metadata": {
        "id": "gnynYl6Yai2Y",
        "colab_type": "code",
        "outputId": "bee30323-fe89-4e26-bca5-f4cdc429dc11",
        "colab": {
          "base_uri": "https://localhost:8080/",
          "height": 126
        }
      },
      "source": [
        "bc['Fecha'].tail()"
      ],
      "execution_count": 0,
      "outputs": [
        {
          "output_type": "execute_result",
          "data": {
            "text/plain": [
              "416    Sep19\n",
              "417    Oct19\n",
              "418    Nov19\n",
              "419    Dic19\n",
              "420    Ene20\n",
              "Name: Fecha, dtype: object"
            ]
          },
          "metadata": {
            "tags": []
          },
          "execution_count": 133
        }
      ]
    },
    {
      "cell_type": "code",
      "metadata": {
        "id": "ZgnVNTIsbdgD",
        "colab_type": "code",
        "outputId": "fdbeda09-6769-4658-bd08-be02b1658ec8",
        "colab": {
          "base_uri": "https://localhost:8080/",
          "height": 235
        }
      },
      "source": [
        "pbi['Fecha'].head(85)"
      ],
      "execution_count": 0,
      "outputs": [
        {
          "output_type": "execute_result",
          "data": {
            "text/plain": [
              "0     Ene03\n",
              "1     Feb03\n",
              "2     Mar03\n",
              "3     Abr03\n",
              "4     May03\n",
              "      ...  \n",
              "80    Sep09\n",
              "81    Oct09\n",
              "82    Nov09\n",
              "83    Dic09\n",
              "84    Ene10\n",
              "Name: Fecha, Length: 85, dtype: object"
            ]
          },
          "metadata": {
            "tags": []
          },
          "execution_count": 21
        }
      ]
    },
    {
      "cell_type": "code",
      "metadata": {
        "id": "dwYBhsFCbpoF",
        "colab_type": "code",
        "outputId": "821b5079-29c2-4148-d595-9795d1a9d7aa",
        "colab": {
          "base_uri": "https://localhost:8080/",
          "height": 126
        }
      },
      "source": [
        "pbi['Fecha'].tail()"
      ],
      "execution_count": 0,
      "outputs": [
        {
          "output_type": "execute_result",
          "data": {
            "text/plain": [
              "200    Sep19\n",
              "201    Oct19\n",
              "202    Nov19\n",
              "203    Dic19\n",
              "204    Ene20\n",
              "Name: Fecha, dtype: object"
            ]
          },
          "metadata": {
            "tags": []
          },
          "execution_count": 22
        }
      ]
    },
    {
      "cell_type": "code",
      "metadata": {
        "id": "xKybSVCIb4jl",
        "colab_type": "code",
        "outputId": "0ef385f2-cbb5-46f3-a92f-d00c1299765a",
        "colab": {
          "base_uri": "https://localhost:8080/",
          "height": 198
        }
      },
      "source": [
        "bc_2010=bc.iloc[300:,:]\n",
        "bc_2010.head()"
      ],
      "execution_count": 0,
      "outputs": [
        {
          "output_type": "execute_result",
          "data": {
            "text/html": [
              "<div>\n",
              "<style scoped>\n",
              "    .dataframe tbody tr th:only-of-type {\n",
              "        vertical-align: middle;\n",
              "    }\n",
              "\n",
              "    .dataframe tbody tr th {\n",
              "        vertical-align: top;\n",
              "    }\n",
              "\n",
              "    .dataframe thead th {\n",
              "        text-align: right;\n",
              "    }\n",
              "</style>\n",
              "<table border=\"1\" class=\"dataframe\">\n",
              "  <thead>\n",
              "    <tr style=\"text-align: right;\">\n",
              "      <th></th>\n",
              "      <th>Fecha</th>\n",
              "      <th>Balanza comercial - valores FOB (millones US$) - Exportaciones - Productos Tradicionales</th>\n",
              "    </tr>\n",
              "  </thead>\n",
              "  <tbody>\n",
              "    <tr>\n",
              "      <th>300</th>\n",
              "      <td>Ene10</td>\n",
              "      <td>1927</td>\n",
              "    </tr>\n",
              "    <tr>\n",
              "      <th>301</th>\n",
              "      <td>Feb10</td>\n",
              "      <td>2095</td>\n",
              "    </tr>\n",
              "    <tr>\n",
              "      <th>302</th>\n",
              "      <td>Mar10</td>\n",
              "      <td>2216</td>\n",
              "    </tr>\n",
              "    <tr>\n",
              "      <th>303</th>\n",
              "      <td>Abr10</td>\n",
              "      <td>2059</td>\n",
              "    </tr>\n",
              "    <tr>\n",
              "      <th>304</th>\n",
              "      <td>May10</td>\n",
              "      <td>1841</td>\n",
              "    </tr>\n",
              "  </tbody>\n",
              "</table>\n",
              "</div>"
            ],
            "text/plain": [
              "     Fecha  Balanza comercial - valores FOB (millones US$) - Exportaciones - Productos Tradicionales\n",
              "300  Ene10                                               1927                                       \n",
              "301  Feb10                                               2095                                       \n",
              "302  Mar10                                               2216                                       \n",
              "303  Abr10                                               2059                                       \n",
              "304  May10                                               1841                                       "
            ]
          },
          "metadata": {
            "tags": []
          },
          "execution_count": 23
        }
      ]
    },
    {
      "cell_type": "code",
      "metadata": {
        "id": "EklZ-LvwcOlN",
        "colab_type": "code",
        "colab": {}
      },
      "source": [
        "pbi_2010=pbi.iloc[84:,:]"
      ],
      "execution_count": 0,
      "outputs": []
    },
    {
      "cell_type": "code",
      "metadata": {
        "id": "BvXN7G37c11E",
        "colab_type": "code",
        "outputId": "fe37c501-b333-4948-dd9b-171a387fd56d",
        "colab": {
          "base_uri": "https://localhost:8080/",
          "height": 198
        }
      },
      "source": [
        "pbi_2010.head()"
      ],
      "execution_count": 0,
      "outputs": [
        {
          "output_type": "execute_result",
          "data": {
            "text/html": [
              "<div>\n",
              "<style scoped>\n",
              "    .dataframe tbody tr th:only-of-type {\n",
              "        vertical-align: middle;\n",
              "    }\n",
              "\n",
              "    .dataframe tbody tr th {\n",
              "        vertical-align: top;\n",
              "    }\n",
              "\n",
              "    .dataframe thead th {\n",
              "        text-align: right;\n",
              "    }\n",
              "</style>\n",
              "<table border=\"1\" class=\"dataframe\">\n",
              "  <thead>\n",
              "    <tr style=\"text-align: right;\">\n",
              "      <th></th>\n",
              "      <th>Fecha</th>\n",
              "      <th>Producto bruto interno y demanda interna (índice 2007=100) - PBI</th>\n",
              "    </tr>\n",
              "  </thead>\n",
              "  <tbody>\n",
              "    <tr>\n",
              "      <th>84</th>\n",
              "      <td>Ene10</td>\n",
              "      <td>106.2</td>\n",
              "    </tr>\n",
              "    <tr>\n",
              "      <th>85</th>\n",
              "      <td>Feb10</td>\n",
              "      <td>106.1</td>\n",
              "    </tr>\n",
              "    <tr>\n",
              "      <th>86</th>\n",
              "      <td>Mar10</td>\n",
              "      <td>115.8</td>\n",
              "    </tr>\n",
              "    <tr>\n",
              "      <th>87</th>\n",
              "      <td>Abr10</td>\n",
              "      <td>117.5</td>\n",
              "    </tr>\n",
              "    <tr>\n",
              "      <th>88</th>\n",
              "      <td>May10</td>\n",
              "      <td>123.0</td>\n",
              "    </tr>\n",
              "  </tbody>\n",
              "</table>\n",
              "</div>"
            ],
            "text/plain": [
              "    Fecha  Producto bruto interno y demanda interna (índice 2007=100) - PBI\n",
              "84  Ene10                                              106.2               \n",
              "85  Feb10                                              106.1               \n",
              "86  Mar10                                              115.8               \n",
              "87  Abr10                                              117.5               \n",
              "88  May10                                              123.0               "
            ]
          },
          "metadata": {
            "tags": []
          },
          "execution_count": 25
        }
      ]
    },
    {
      "cell_type": "code",
      "metadata": {
        "id": "bUqaKOUcc_s_",
        "colab_type": "code",
        "outputId": "42003389-dc4c-4842-9e81-6af73c5e0942",
        "colab": {
          "base_uri": "https://localhost:8080/",
          "height": 35
        }
      },
      "source": [
        "pbi_2010.shape"
      ],
      "execution_count": 0,
      "outputs": [
        {
          "output_type": "execute_result",
          "data": {
            "text/plain": [
              "(121, 2)"
            ]
          },
          "metadata": {
            "tags": []
          },
          "execution_count": 26
        }
      ]
    },
    {
      "cell_type": "code",
      "metadata": {
        "id": "A6vXMXcndV_H",
        "colab_type": "code",
        "outputId": "98f757ea-dbcd-463d-fdda-4c1af3581876",
        "colab": {
          "base_uri": "https://localhost:8080/",
          "height": 35
        }
      },
      "source": [
        "bc_2010.shape"
      ],
      "execution_count": 0,
      "outputs": [
        {
          "output_type": "execute_result",
          "data": {
            "text/plain": [
              "(121, 2)"
            ]
          },
          "metadata": {
            "tags": []
          },
          "execution_count": 27
        }
      ]
    },
    {
      "cell_type": "code",
      "metadata": {
        "id": "uX2WRT-1dX34",
        "colab_type": "code",
        "colab": {}
      },
      "source": [
        "#Regresion Lineal Simple : metodo 1\n",
        "from sklearn import linear_model\n",
        "from sklearn.metrics import mean_squared_error, r2_score\n",
        "import matplotlib.pyplot as plt\n",
        "%matplotlib inline"
      ],
      "execution_count": 0,
      "outputs": []
    },
    {
      "cell_type": "code",
      "metadata": {
        "id": "mWg6bo9Ke-MI",
        "colab_type": "code",
        "colab": {}
      },
      "source": [
        "pbi_2010=pbi_2010.rename(columns={\"Producto bruto interno y demanda interna (índice 2007=100) - PBI\": \"pbi\"})"
      ],
      "execution_count": 0,
      "outputs": []
    },
    {
      "cell_type": "code",
      "metadata": {
        "id": "Ui2UZVqafMJL",
        "colab_type": "code",
        "outputId": "1c4aebcd-ee0c-4453-b5ac-084da13c07d0",
        "colab": {
          "base_uri": "https://localhost:8080/",
          "height": 198
        }
      },
      "source": [
        "pbi_2010.head()"
      ],
      "execution_count": 0,
      "outputs": [
        {
          "output_type": "execute_result",
          "data": {
            "text/html": [
              "<div>\n",
              "<style scoped>\n",
              "    .dataframe tbody tr th:only-of-type {\n",
              "        vertical-align: middle;\n",
              "    }\n",
              "\n",
              "    .dataframe tbody tr th {\n",
              "        vertical-align: top;\n",
              "    }\n",
              "\n",
              "    .dataframe thead th {\n",
              "        text-align: right;\n",
              "    }\n",
              "</style>\n",
              "<table border=\"1\" class=\"dataframe\">\n",
              "  <thead>\n",
              "    <tr style=\"text-align: right;\">\n",
              "      <th></th>\n",
              "      <th>Fecha</th>\n",
              "      <th>pbi</th>\n",
              "    </tr>\n",
              "  </thead>\n",
              "  <tbody>\n",
              "    <tr>\n",
              "      <th>84</th>\n",
              "      <td>Ene10</td>\n",
              "      <td>106.2</td>\n",
              "    </tr>\n",
              "    <tr>\n",
              "      <th>85</th>\n",
              "      <td>Feb10</td>\n",
              "      <td>106.1</td>\n",
              "    </tr>\n",
              "    <tr>\n",
              "      <th>86</th>\n",
              "      <td>Mar10</td>\n",
              "      <td>115.8</td>\n",
              "    </tr>\n",
              "    <tr>\n",
              "      <th>87</th>\n",
              "      <td>Abr10</td>\n",
              "      <td>117.5</td>\n",
              "    </tr>\n",
              "    <tr>\n",
              "      <th>88</th>\n",
              "      <td>May10</td>\n",
              "      <td>123.0</td>\n",
              "    </tr>\n",
              "  </tbody>\n",
              "</table>\n",
              "</div>"
            ],
            "text/plain": [
              "    Fecha    pbi\n",
              "84  Ene10  106.2\n",
              "85  Feb10  106.1\n",
              "86  Mar10  115.8\n",
              "87  Abr10  117.5\n",
              "88  May10  123.0"
            ]
          },
          "metadata": {
            "tags": []
          },
          "execution_count": 29
        }
      ]
    },
    {
      "cell_type": "code",
      "metadata": {
        "id": "mirAsCAtf2aT",
        "colab_type": "code",
        "colab": {}
      },
      "source": [
        "bc_2010=bc_2010.rename(columns={\"Balanza comercial - valores FOB (millones US$) - Exportaciones - Productos Tradicionales\" : \"bc\"})"
      ],
      "execution_count": 0,
      "outputs": []
    },
    {
      "cell_type": "code",
      "metadata": {
        "id": "bM1xFaCMgb0c",
        "colab_type": "code",
        "outputId": "6c694ba2-ac71-466d-8845-3bc19a961671",
        "colab": {
          "base_uri": "https://localhost:8080/",
          "height": 198
        }
      },
      "source": [
        "bc_2010.head()"
      ],
      "execution_count": 0,
      "outputs": [
        {
          "output_type": "execute_result",
          "data": {
            "text/html": [
              "<div>\n",
              "<style scoped>\n",
              "    .dataframe tbody tr th:only-of-type {\n",
              "        vertical-align: middle;\n",
              "    }\n",
              "\n",
              "    .dataframe tbody tr th {\n",
              "        vertical-align: top;\n",
              "    }\n",
              "\n",
              "    .dataframe thead th {\n",
              "        text-align: right;\n",
              "    }\n",
              "</style>\n",
              "<table border=\"1\" class=\"dataframe\">\n",
              "  <thead>\n",
              "    <tr style=\"text-align: right;\">\n",
              "      <th></th>\n",
              "      <th>Fecha</th>\n",
              "      <th>bc</th>\n",
              "    </tr>\n",
              "  </thead>\n",
              "  <tbody>\n",
              "    <tr>\n",
              "      <th>300</th>\n",
              "      <td>Ene10</td>\n",
              "      <td>1927</td>\n",
              "    </tr>\n",
              "    <tr>\n",
              "      <th>301</th>\n",
              "      <td>Feb10</td>\n",
              "      <td>2095</td>\n",
              "    </tr>\n",
              "    <tr>\n",
              "      <th>302</th>\n",
              "      <td>Mar10</td>\n",
              "      <td>2216</td>\n",
              "    </tr>\n",
              "    <tr>\n",
              "      <th>303</th>\n",
              "      <td>Abr10</td>\n",
              "      <td>2059</td>\n",
              "    </tr>\n",
              "    <tr>\n",
              "      <th>304</th>\n",
              "      <td>May10</td>\n",
              "      <td>1841</td>\n",
              "    </tr>\n",
              "  </tbody>\n",
              "</table>\n",
              "</div>"
            ],
            "text/plain": [
              "     Fecha    bc\n",
              "300  Ene10  1927\n",
              "301  Feb10  2095\n",
              "302  Mar10  2216\n",
              "303  Abr10  2059\n",
              "304  May10  1841"
            ]
          },
          "metadata": {
            "tags": []
          },
          "execution_count": 32
        }
      ]
    },
    {
      "cell_type": "code",
      "metadata": {
        "id": "rGfV0OE4k1KB",
        "colab_type": "code",
        "colab": {}
      },
      "source": [
        "#De preferencia, unir ambas columnas en una sola tabla\n",
        "regresion=pd.merge(bc_2010, pbi_2010, on='Fecha')"
      ],
      "execution_count": 0,
      "outputs": []
    },
    {
      "cell_type": "code",
      "metadata": {
        "id": "-gbG47Z1nNzO",
        "colab_type": "code",
        "outputId": "a7661c0e-5934-44d3-9e75-8f7e52aa95c9",
        "colab": {
          "base_uri": "https://localhost:8080/",
          "height": 35
        }
      },
      "source": [
        "regresion.shape"
      ],
      "execution_count": 0,
      "outputs": [
        {
          "output_type": "execute_result",
          "data": {
            "text/plain": [
              "(121, 3)"
            ]
          },
          "metadata": {
            "tags": []
          },
          "execution_count": 35
        }
      ]
    },
    {
      "cell_type": "code",
      "metadata": {
        "id": "0EF8u1xCgflw",
        "colab_type": "code",
        "outputId": "177b43b0-6655-4d01-860b-b9df23213cad",
        "colab": {
          "base_uri": "https://localhost:8080/",
          "height": 265
        }
      },
      "source": [
        "# Represento los datos generados\n",
        "plt.scatter(regresion['bc'], regresion['pbi'])\n",
        "plt.show()\n"
      ],
      "execution_count": 0,
      "outputs": [
        {
          "output_type": "display_data",
          "data": {
            "image/png": "[encoded data removed]",
            "text/plain": [
              "<Figure size 432x288 with 1 Axes>"
            ]
          },
          "metadata": {
            "tags": []
          }
        }
      ]
    },
    {
      "cell_type": "code",
      "metadata": {
        "id": "yX5wBHZXnt4B",
        "colab_type": "code",
        "colab": {}
      },
      "source": [
        "#Corregimos el comentario de la regresion, para X \n",
        "aea=np.array(regresion['bc'])\n",
        "X=aea.reshape(-1, 1)"
      ],
      "execution_count": 0,
      "outputs": []
    },
    {
      "cell_type": "code",
      "metadata": {
        "id": "jjq0DDbHoDlL",
        "colab_type": "code",
        "colab": {}
      },
      "source": [
        "#Lo mismo para Y\n",
        "ae=np.array(regresion['pbi'])\n",
        "Y=ae.reshape(-1,1)"
      ],
      "execution_count": 0,
      "outputs": []
    },
    {
      "cell_type": "code",
      "metadata": {
        "id": "LJC6-fHzpEji",
        "colab_type": "code",
        "outputId": "775805c4-7b7c-4748-a4c4-8802c8275617",
        "colab": {
          "base_uri": "https://localhost:8080/",
          "height": 295
        }
      },
      "source": [
        "import statsmodels.api as sm\n",
        "\n",
        "# Creamos el modelo \n",
        "model = sm.OLS(Y, X).fit()\n",
        "predictions = model.predict(X) \n",
        "\n",
        "# Generamos el cuadro con los resultados\n",
        "model.summary2()"
      ],
      "execution_count": 0,
      "outputs": [
        {
          "output_type": "execute_result",
          "data": {
            "text/html": [
              "<table class=\"simpletable\">\n",
              "<tr>\n",
              "          <td>Model:</td>                 <td>OLS</td>       <td>Adj. R-squared (uncentered):</td>   <td>0.964</td>  \n",
              "</tr>\n",
              "<tr>\n",
              "    <td>Dependent Variable:</td>           <td>y</td>                    <td>AIC:</td>             <td>1154.0347</td>\n",
              "</tr>\n",
              "<tr>\n",
              "           <td>Date:</td>          <td>2020-04-05 03:21</td>             <td>BIC:</td>             <td>1156.8305</td>\n",
              "</tr>\n",
              "<tr>\n",
              "     <td>No. Observations:</td>           <td>121</td>              <td>Log-Likelihood:</td>        <td>-576.02</td> \n",
              "</tr>\n",
              "<tr>\n",
              "         <td>Df Model:</td>                <td>1</td>                <td>F-statistic:</td>           <td>3215.</td>  \n",
              "</tr>\n",
              "<tr>\n",
              "       <td>Df Residuals:</td>             <td>120</td>            <td>Prob (F-statistic):</td>     <td>1.70e-88</td> \n",
              "</tr>\n",
              "<tr>\n",
              "  <td>R-squared (uncentered):</td>       <td>0.964</td>                 <td>Scale:</td>             <td>805.42</td>  \n",
              "</tr>\n",
              "</table>\n",
              "<table class=\"simpletable\">\n",
              "<tr>\n",
              "   <td></td>   <th>Coef.</th> <th>Std.Err.</th>    <th>t</th>     <th>P>|t|</th> <th>[0.025</th> <th>0.975]</th>\n",
              "</tr>\n",
              "<tr>\n",
              "  <th>x1</th> <td>0.0555</td>  <td>0.0010</td>  <td>56.7052</td> <td>0.0000</td> <td>0.0536</td> <td>0.0575</td>\n",
              "</tr>\n",
              "</table>\n",
              "<table class=\"simpletable\">\n",
              "<tr>\n",
              "     <td>Omnibus:</td>     <td>2.529</td>  <td>Durbin-Watson:</td>   <td>0.322</td>\n",
              "</tr>\n",
              "<tr>\n",
              "  <td>Prob(Omnibus):</td>  <td>0.282</td> <td>Jarque-Bera (JB):</td> <td>2.553</td>\n",
              "</tr>\n",
              "<tr>\n",
              "       <td>Skew:</td>     <td>-0.318</td>     <td>Prob(JB):</td>     <td>0.279</td>\n",
              "</tr>\n",
              "<tr>\n",
              "     <td>Kurtosis:</td>    <td>2.681</td>  <td>Condition No.:</td>     <td>1</td>  \n",
              "</tr>\n",
              "</table>"
            ],
            "text/plain": [
              "<class 'statsmodels.iolib.summary2.Summary'>\n",
              "\"\"\"\n",
              "                        Results: Ordinary least squares\n",
              "===============================================================================\n",
              "Model:                  OLS              Adj. R-squared (uncentered): 0.964    \n",
              "Dependent Variable:     y                AIC:                         1154.0347\n",
              "Date:                   2020-04-05 03:21 BIC:                         1156.8305\n",
              "No. Observations:       121              Log-Likelihood:              -576.02  \n",
              "Df Model:               1                F-statistic:                 3215.    \n",
              "Df Residuals:           120              Prob (F-statistic):          1.70e-88 \n",
              "R-squared (uncentered): 0.964            Scale:                       805.42   \n",
              "-------------------------------------------------------------------------------------\n",
              "           Coef.        Std.Err.          t          P>|t|        [0.025       0.975]\n",
              "-------------------------------------------------------------------------------------\n",
              "x1         0.0555         0.0010       56.7052       0.0000       0.0536       0.0575\n",
              "-------------------------------------------------------------------------------\n",
              "Omnibus:                   2.529             Durbin-Watson:               0.322\n",
              "Prob(Omnibus):             0.282             Jarque-Bera (JB):            2.553\n",
              "Skew:                      -0.318            Prob(JB):                    0.279\n",
              "Kurtosis:                  2.681             Condition No.:               1    \n",
              "===============================================================================\n",
              "\n",
              "\"\"\""
            ]
          },
          "metadata": {
            "tags": []
          },
          "execution_count": 48
        }
      ]
    },
    {
      "cell_type": "code",
      "metadata": {
        "id": "SKhP5jLaHKtE",
        "colab_type": "code",
        "outputId": "0cc9705e-61c9-40c2-9389-17c902d6ca8d",
        "colab": {
          "base_uri": "https://localhost:8080/",
          "height": 265
        }
      },
      "source": [
        "# Represento los datos generados\n",
        "plt.scatter(X, Y)\n",
        "plt.plot(X, predictions, color='yellow', linewidth=4)\n",
        "plt.show()"
      ],
      "execution_count": 0,
      "outputs": [
        {
          "output_type": "display_data",
          "data": {
            "image/png": "[encoded data removed]",
            "text/plain": [
              "<Figure size 432x288 with 1 Axes>"
            ]
          },
          "metadata": {
            "tags": []
          }
        }
      ]
    },
    {
      "cell_type": "code",
      "metadata": {
        "id": "qlXIkCFvpURq",
        "colab_type": "code",
        "outputId": "be15e316-6c76-4b0e-ede1-11096d2ebce0",
        "colab": {
          "base_uri": "https://localhost:8080/",
          "height": 295
        }
      },
      "source": [
        "#Otra opción para ver los estadísticos básicos:\n",
        "model.summary2()"
      ],
      "execution_count": 0,
      "outputs": [
        {
          "output_type": "execute_result",
          "data": {
            "text/html": [
              "<table class=\"simpletable\">\n",
              "<tr>\n",
              "          <td>Model:</td>                 <td>OLS</td>       <td>Adj. R-squared (uncentered):</td>   <td>0.964</td>  \n",
              "</tr>\n",
              "<tr>\n",
              "    <td>Dependent Variable:</td>           <td>y</td>                    <td>AIC:</td>             <td>1154.0347</td>\n",
              "</tr>\n",
              "<tr>\n",
              "           <td>Date:</td>          <td>2020-04-05 01:50</td>             <td>BIC:</td>             <td>1156.8305</td>\n",
              "</tr>\n",
              "<tr>\n",
              "     <td>No. Observations:</td>           <td>121</td>              <td>Log-Likelihood:</td>        <td>-576.02</td> \n",
              "</tr>\n",
              "<tr>\n",
              "         <td>Df Model:</td>                <td>1</td>                <td>F-statistic:</td>           <td>3215.</td>  \n",
              "</tr>\n",
              "<tr>\n",
              "       <td>Df Residuals:</td>             <td>120</td>            <td>Prob (F-statistic):</td>     <td>1.70e-88</td> \n",
              "</tr>\n",
              "<tr>\n",
              "  <td>R-squared (uncentered):</td>       <td>0.964</td>                 <td>Scale:</td>             <td>805.42</td>  \n",
              "</tr>\n",
              "</table>\n",
              "<table class=\"simpletable\">\n",
              "<tr>\n",
              "   <td></td>   <th>Coef.</th> <th>Std.Err.</th>    <th>t</th>     <th>P>|t|</th> <th>[0.025</th> <th>0.975]</th>\n",
              "</tr>\n",
              "<tr>\n",
              "  <th>x1</th> <td>0.0555</td>  <td>0.0010</td>  <td>56.7052</td> <td>0.0000</td> <td>0.0536</td> <td>0.0575</td>\n",
              "</tr>\n",
              "</table>\n",
              "<table class=\"simpletable\">\n",
              "<tr>\n",
              "     <td>Omnibus:</td>     <td>2.529</td>  <td>Durbin-Watson:</td>   <td>0.322</td>\n",
              "</tr>\n",
              "<tr>\n",
              "  <td>Prob(Omnibus):</td>  <td>0.282</td> <td>Jarque-Bera (JB):</td> <td>2.553</td>\n",
              "</tr>\n",
              "<tr>\n",
              "       <td>Skew:</td>     <td>-0.318</td>     <td>Prob(JB):</td>     <td>0.279</td>\n",
              "</tr>\n",
              "<tr>\n",
              "     <td>Kurtosis:</td>    <td>2.681</td>  <td>Condition No.:</td>     <td>1</td>  \n",
              "</tr>\n",
              "</table>"
            ],
            "text/plain": [
              "<class 'statsmodels.iolib.summary2.Summary'>\n",
              "\"\"\"\n",
              "                        Results: Ordinary least squares\n",
              "===============================================================================\n",
              "Model:                  OLS              Adj. R-squared (uncentered): 0.964    \n",
              "Dependent Variable:     y                AIC:                         1154.0347\n",
              "Date:                   2020-04-05 01:50 BIC:                         1156.8305\n",
              "No. Observations:       121              Log-Likelihood:              -576.02  \n",
              "Df Model:               1                F-statistic:                 3215.    \n",
              "Df Residuals:           120              Prob (F-statistic):          1.70e-88 \n",
              "R-squared (uncentered): 0.964            Scale:                       805.42   \n",
              "-------------------------------------------------------------------------------------\n",
              "           Coef.        Std.Err.          t          P>|t|        [0.025       0.975]\n",
              "-------------------------------------------------------------------------------------\n",
              "x1         0.0555         0.0010       56.7052       0.0000       0.0536       0.0575\n",
              "-------------------------------------------------------------------------------\n",
              "Omnibus:                   2.529             Durbin-Watson:               0.322\n",
              "Prob(Omnibus):             0.282             Jarque-Bera (JB):            2.553\n",
              "Skew:                      -0.318            Prob(JB):                    0.279\n",
              "Kurtosis:                  2.681             Condition No.:               1    \n",
              "===============================================================================\n",
              "\n",
              "\"\"\""
            ]
          },
          "metadata": {
            "tags": []
          },
          "execution_count": 153
        }
      ]
    },
    {
      "cell_type": "markdown",
      "metadata": {
        "id": "g8XpUT09sQiR",
        "colab_type": "text"
      },
      "source": [
        "**Parte 2 : Regresión lineal múltiple**"
      ]
    },
    {
      "cell_type": "code",
      "metadata": {
        "id": "JKipT97usc3-",
        "colab_type": "code",
        "colab": {}
      },
      "source": [
        "DATA=pd.read_excel('CLASE 4.xlsx')"
      ],
      "execution_count": 0,
      "outputs": []
    },
    {
      "cell_type": "code",
      "metadata": {
        "id": "AqORP-y_079o",
        "colab_type": "code",
        "outputId": "4e8d06ff-8e20-455c-9ec8-2c0eb1dba4a8",
        "colab": {
          "base_uri": "https://localhost:8080/",
          "height": 198
        }
      },
      "source": [
        "DATA.head()"
      ],
      "execution_count": 0,
      "outputs": [
        {
          "output_type": "execute_result",
          "data": {
            "text/html": [
              "<div>\n",
              "<style scoped>\n",
              "    .dataframe tbody tr th:only-of-type {\n",
              "        vertical-align: middle;\n",
              "    }\n",
              "\n",
              "    .dataframe tbody tr th {\n",
              "        vertical-align: top;\n",
              "    }\n",
              "\n",
              "    .dataframe thead th {\n",
              "        text-align: right;\n",
              "    }\n",
              "</style>\n",
              "<table border=\"1\" class=\"dataframe\">\n",
              "  <thead>\n",
              "    <tr style=\"text-align: right;\">\n",
              "      <th></th>\n",
              "      <th>Unnamed: 0</th>\n",
              "      <th>TRASPASO</th>\n",
              "      <th>COMISIÓN</th>\n",
              "      <th>GASTO DE VENTAS</th>\n",
              "      <th>RENTA</th>\n",
              "    </tr>\n",
              "  </thead>\n",
              "  <tbody>\n",
              "    <tr>\n",
              "      <th>0</th>\n",
              "      <td>TIEMPO</td>\n",
              "      <td>NaN</td>\n",
              "      <td>NaN</td>\n",
              "      <td>NaN</td>\n",
              "      <td>NaN</td>\n",
              "    </tr>\n",
              "    <tr>\n",
              "      <th>1</th>\n",
              "      <td>2013-09-01 00:00:00</td>\n",
              "      <td>0.4766</td>\n",
              "      <td>0.9598</td>\n",
              "      <td>0.3435</td>\n",
              "      <td>0.9846</td>\n",
              "    </tr>\n",
              "    <tr>\n",
              "      <th>2</th>\n",
              "      <td>2013-10-01 00:00:00</td>\n",
              "      <td>0.3059</td>\n",
              "      <td>0.9598</td>\n",
              "      <td>0.3391</td>\n",
              "      <td>0.9846</td>\n",
              "    </tr>\n",
              "    <tr>\n",
              "      <th>3</th>\n",
              "      <td>2013-11-01 00:00:00</td>\n",
              "      <td>0.2842</td>\n",
              "      <td>0.9598</td>\n",
              "      <td>0.3351</td>\n",
              "      <td>0.9846</td>\n",
              "    </tr>\n",
              "    <tr>\n",
              "      <th>4</th>\n",
              "      <td>2013-12-01 00:00:00</td>\n",
              "      <td>0.2406</td>\n",
              "      <td>0.9598</td>\n",
              "      <td>0.3381</td>\n",
              "      <td>0.9846</td>\n",
              "    </tr>\n",
              "  </tbody>\n",
              "</table>\n",
              "</div>"
            ],
            "text/plain": [
              "            Unnamed: 0  TRASPASO  COMISIÓN  GASTO DE VENTAS   RENTA\n",
              "0               TIEMPO       NaN       NaN              NaN     NaN\n",
              "1  2013-09-01 00:00:00    0.4766    0.9598           0.3435  0.9846\n",
              "2  2013-10-01 00:00:00    0.3059    0.9598           0.3391  0.9846\n",
              "3  2013-11-01 00:00:00    0.2842    0.9598           0.3351  0.9846\n",
              "4  2013-12-01 00:00:00    0.2406    0.9598           0.3381  0.9846"
            ]
          },
          "metadata": {
            "tags": []
          },
          "execution_count": 55
        }
      ]
    },
    {
      "cell_type": "code",
      "metadata": {
        "id": "ktWlau_p0-LV",
        "colab_type": "code",
        "outputId": "fbaaf146-f809-4c18-f941-4289f2bca0d7",
        "colab": {
          "base_uri": "https://localhost:8080/",
          "height": 198
        }
      },
      "source": [
        "data=DATA.drop([0], axis=0)\n",
        "data.head()"
      ],
      "execution_count": 0,
      "outputs": [
        {
          "output_type": "execute_result",
          "data": {
            "text/html": [
              "<div>\n",
              "<style scoped>\n",
              "    .dataframe tbody tr th:only-of-type {\n",
              "        vertical-align: middle;\n",
              "    }\n",
              "\n",
              "    .dataframe tbody tr th {\n",
              "        vertical-align: top;\n",
              "    }\n",
              "\n",
              "    .dataframe thead th {\n",
              "        text-align: right;\n",
              "    }\n",
              "</style>\n",
              "<table border=\"1\" class=\"dataframe\">\n",
              "  <thead>\n",
              "    <tr style=\"text-align: right;\">\n",
              "      <th></th>\n",
              "      <th>Unnamed: 0</th>\n",
              "      <th>TRASPASO</th>\n",
              "      <th>COMISIÓN</th>\n",
              "      <th>GASTO DE VENTAS</th>\n",
              "      <th>RENTA</th>\n",
              "    </tr>\n",
              "  </thead>\n",
              "  <tbody>\n",
              "    <tr>\n",
              "      <th>1</th>\n",
              "      <td>2013-09-01 00:00:00</td>\n",
              "      <td>0.4766</td>\n",
              "      <td>0.9598</td>\n",
              "      <td>0.3435</td>\n",
              "      <td>0.9846</td>\n",
              "    </tr>\n",
              "    <tr>\n",
              "      <th>2</th>\n",
              "      <td>2013-10-01 00:00:00</td>\n",
              "      <td>0.3059</td>\n",
              "      <td>0.9598</td>\n",
              "      <td>0.3391</td>\n",
              "      <td>0.9846</td>\n",
              "    </tr>\n",
              "    <tr>\n",
              "      <th>3</th>\n",
              "      <td>2013-11-01 00:00:00</td>\n",
              "      <td>0.2842</td>\n",
              "      <td>0.9598</td>\n",
              "      <td>0.3351</td>\n",
              "      <td>0.9846</td>\n",
              "    </tr>\n",
              "    <tr>\n",
              "      <th>4</th>\n",
              "      <td>2013-12-01 00:00:00</td>\n",
              "      <td>0.2406</td>\n",
              "      <td>0.9598</td>\n",
              "      <td>0.3381</td>\n",
              "      <td>0.9846</td>\n",
              "    </tr>\n",
              "    <tr>\n",
              "      <th>5</th>\n",
              "      <td>2014-01-01 00:00:00</td>\n",
              "      <td>0.2968</td>\n",
              "      <td>0.9598</td>\n",
              "      <td>0.3328</td>\n",
              "      <td>0.9846</td>\n",
              "    </tr>\n",
              "  </tbody>\n",
              "</table>\n",
              "</div>"
            ],
            "text/plain": [
              "            Unnamed: 0  TRASPASO  COMISIÓN  GASTO DE VENTAS   RENTA\n",
              "1  2013-09-01 00:00:00    0.4766    0.9598           0.3435  0.9846\n",
              "2  2013-10-01 00:00:00    0.3059    0.9598           0.3391  0.9846\n",
              "3  2013-11-01 00:00:00    0.2842    0.9598           0.3351  0.9846\n",
              "4  2013-12-01 00:00:00    0.2406    0.9598           0.3381  0.9846\n",
              "5  2014-01-01 00:00:00    0.2968    0.9598           0.3328  0.9846"
            ]
          },
          "metadata": {
            "tags": []
          },
          "execution_count": 56
        }
      ]
    },
    {
      "cell_type": "code",
      "metadata": {
        "id": "iCArzvW72Bq8",
        "colab_type": "code",
        "outputId": "32734a82-7581-486b-839a-e717f7f78d80",
        "colab": {
          "base_uri": "https://localhost:8080/",
          "height": 357
        }
      },
      "source": [
        "X = data.iloc[:,2:5] ## Ingresamos nuestras variables dependientes\n",
        "y = data[\"TRASPASO\"] ## Ingresamos nuestras variables independientes\n",
        "X = sm.add_constant(X) ## Añadiremos la constante según nuestro marco teórico\n",
        "\n",
        "# Estructura del argumento para ejecutar el MCO\n",
        "model = sm.OLS(y, X).fit() ## sm.OLS(output, input)\n",
        "predictions = model.predict(X)\n",
        "\n",
        "# Arrojaremos las estadísticas\n",
        "model.summary2()"
      ],
      "execution_count": 0,
      "outputs": [
        {
          "output_type": "execute_result",
          "data": {
            "text/html": [
              "<table class=\"simpletable\">\n",
              "<tr>\n",
              "        <td>Model:</td>               <td>OLS</td>         <td>Adj. R-squared:</td>     <td>0.475</td>  \n",
              "</tr>\n",
              "<tr>\n",
              "  <td>Dependent Variable:</td>     <td>TRASPASO</td>            <td>AIC:</td>         <td>-226.8467</td>\n",
              "</tr>\n",
              "<tr>\n",
              "         <td>Date:</td>        <td>2020-04-05 03:34</td>        <td>BIC:</td>         <td>-217.7960</td>\n",
              "</tr>\n",
              "<tr>\n",
              "   <td>No. Observations:</td>         <td>71</td>          <td>Log-Likelihood:</td>    <td>117.42</td>  \n",
              "</tr>\n",
              "<tr>\n",
              "       <td>Df Model:</td>              <td>3</td>           <td>F-statistic:</td>       <td>22.12</td>  \n",
              "</tr>\n",
              "<tr>\n",
              "     <td>Df Residuals:</td>           <td>67</td>        <td>Prob (F-statistic):</td> <td>4.58e-10</td> \n",
              "</tr>\n",
              "<tr>\n",
              "      <td>R-squared:</td>            <td>0.498</td>            <td>Scale:</td>        <td>0.0022709</td>\n",
              "</tr>\n",
              "</table>\n",
              "<table class=\"simpletable\">\n",
              "<tr>\n",
              "         <td></td>          <th>Coef.</th>  <th>Std.Err.</th>    <th>t</th>     <th>P>|t|</th> <th>[0.025</th>  <th>0.975]</th> \n",
              "</tr>\n",
              "<tr>\n",
              "  <th>const</th>           <td>2.8802</td>   <td>0.9722</td>  <td>2.9625</td>  <td>0.0042</td> <td>0.9397</td>  <td>4.8208</td> \n",
              "</tr>\n",
              "<tr>\n",
              "  <th>COMISIÓN</th>        <td>-1.5023</td>  <td>0.9672</td>  <td>-1.5532</td> <td>0.1251</td> <td>-3.4327</td> <td>0.4282</td> \n",
              "</tr>\n",
              "<tr>\n",
              "  <th>GASTO DE VENTAS</th> <td>1.4156</td>   <td>0.2256</td>  <td>6.2756</td>  <td>0.0000</td> <td>0.9653</td>  <td>1.8658</td> \n",
              "</tr>\n",
              "<tr>\n",
              "  <th>RENTA</th>           <td>-1.6203</td>  <td>0.2574</td>  <td>-6.2951</td> <td>0.0000</td> <td>-2.1341</td> <td>-1.1065</td>\n",
              "</tr>\n",
              "</table>\n",
              "<table class=\"simpletable\">\n",
              "<tr>\n",
              "     <td>Omnibus:</td>    <td>1.589</td>  <td>Durbin-Watson:</td>   <td>1.034</td>\n",
              "</tr>\n",
              "<tr>\n",
              "  <td>Prob(Omnibus):</td> <td>0.452</td> <td>Jarque-Bera (JB):</td> <td>0.936</td>\n",
              "</tr>\n",
              "<tr>\n",
              "       <td>Skew:</td>     <td>0.211</td>     <td>Prob(JB):</td>     <td>0.626</td>\n",
              "</tr>\n",
              "<tr>\n",
              "     <td>Kurtosis:</td>   <td>3.372</td>  <td>Condition No.:</td>    <td>416</td> \n",
              "</tr>\n",
              "</table>"
            ],
            "text/plain": [
              "<class 'statsmodels.iolib.summary2.Summary'>\n",
              "\"\"\"\n",
              "                 Results: Ordinary least squares\n",
              "==================================================================\n",
              "Model:              OLS              Adj. R-squared:     0.475    \n",
              "Dependent Variable: TRASPASO         AIC:                -226.8467\n",
              "Date:               2020-04-05 03:34 BIC:                -217.7960\n",
              "No. Observations:   71               Log-Likelihood:     117.42   \n",
              "Df Model:           3                F-statistic:        22.12    \n",
              "Df Residuals:       67               Prob (F-statistic): 4.58e-10 \n",
              "R-squared:          0.498            Scale:              0.0022709\n",
              "------------------------------------------------------------------\n",
              "                    Coef.  Std.Err.    t    P>|t|   [0.025  0.975]\n",
              "------------------------------------------------------------------\n",
              "const               2.8802   0.9722  2.9625 0.0042  0.9397  4.8208\n",
              "COMISIÓN           -1.5023   0.9672 -1.5532 0.1251 -3.4327  0.4282\n",
              "GASTO DE VENTAS     1.4156   0.2256  6.2756 0.0000  0.9653  1.8658\n",
              "RENTA              -1.6203   0.2574 -6.2951 0.0000 -2.1341 -1.1065\n",
              "------------------------------------------------------------------\n",
              "Omnibus:               1.589        Durbin-Watson:           1.034\n",
              "Prob(Omnibus):         0.452        Jarque-Bera (JB):        0.936\n",
              "Skew:                  0.211        Prob(JB):                0.626\n",
              "Kurtosis:              3.372        Condition No.:           416  \n",
              "==================================================================\n",
              "\n",
              "\"\"\""
            ]
          },
          "metadata": {
            "tags": []
          },
          "execution_count": 57
        }
      ]
    },
    {
      "cell_type": "code",
      "metadata": {
        "id": "wiZi-0AE4LOj",
        "colab_type": "code",
        "outputId": "9481c0d8-4430-49af-e95c-158703e9c91a",
        "colab": {
          "base_uri": "https://localhost:8080/",
          "height": 268
        }
      },
      "source": [
        "# Ejecucion de un correlograma\n",
        "#https://towardsdatascience.com/simple-and-multiple-linear-regression-in-python-c928425168f9 -> Base\n",
        "#https://matplotlib.org/3.2.0/gallery/lines_bars_and_markers/xcorr_acorr_demo.html -> Correlograma\n",
        "np.random.seed(19680801)\n",
        "\n",
        "x, y = np.random.randn(2, 100)\n",
        "fig, [ax1, ax2] = plt.subplots(2, 1, sharex=True)\n",
        "ax1.xcorr(data.iloc[:,4], data[\"TRASPASO\"], usevlines=True, maxlags=50, normed=True, lw=2)\n",
        "ax1.grid(True)\n",
        "\n",
        "ax2.acorr(data.iloc[:,4], usevlines=True, normed=True, maxlags=50, lw=2)\n",
        "ax2.grid(True)\n",
        "\n",
        "plt.show()"
      ],
      "execution_count": 0,
      "outputs": [
        {
          "output_type": "display_data",
          "data": {
            "image/png": "[encoded data removed]",
            "text/plain": [
              "<Figure size 432x288 with 2 Axes>"
            ]
          },
          "metadata": {
            "tags": []
          }
        }
      ]
    },
    {
      "cell_type": "code",
      "metadata": {
        "id": "Fh2EE-gI6E8Z",
        "colab_type": "code",
        "outputId": "71646db5-69fa-4bcc-a371-6b2dbe4dd23d",
        "colab": {
          "base_uri": "https://localhost:8080/",
          "height": 90
        }
      },
      "source": [
        "#Prueba de Breusch-Godfrey\n",
        "BG = sm.stats.diagnostic.acorr_breusch_godfrey(model, nlags=1, store=False)\n",
        "https://www.statsmodels.org/stable/generated/statsmodels.stats.diagnostic.acorr_breusch_godfrey.html \n",
        "BG"
      ],
      "execution_count": 0,
      "outputs": [
        {
          "output_type": "execute_result",
          "data": {
            "text/plain": [
              "(12.1980371804132,\n",
              " 0.0004783982475365747,\n",
              " 13.691217355742864,\n",
              " 0.00044124793408142454)"
            ]
          },
          "metadata": {
            "tags": []
          },
          "execution_count": 127
        }
      ]
    },
    {
      "cell_type": "code",
      "metadata": {
        "id": "nYTMb0f39lcx",
        "colab_type": "code",
        "outputId": "f60e98f1-4172-413a-a185-c69c13926148",
        "colab": {
          "base_uri": "https://localhost:8080/",
          "height": 35
        }
      },
      "source": [
        "#glejser - goldlield quant - HETERO /// AUTO - VonNeuman -  Durbin Watson.\n",
        "#Durbin-Watson test : https://www.statsmodels.org/stable/generated/statsmodels.stats.stattools.durbin_watson.html \n",
        "#Residuos : https://www.statsmodels.org/stable/generated/statsmodels.regression.linear_model.OLSResults.resid.html \n",
        "sm.stats.stattools.durbin_watson(model.resid, axis=0)"
      ],
      "execution_count": 0,
      "outputs": [
        {
          "output_type": "execute_result",
          "data": {
            "text/plain": [
              "0.321774447716486"
            ]
          },
          "metadata": {
            "tags": []
          },
          "execution_count": 161
        }
      ]
    },
    {
      "cell_type": "code",
      "metadata": {
        "id": "cH0g-HUjEz-Z",
        "colab_type": "code",
        "colab": {}
      },
      "source": [
        "fig = plt.figure(figsize=(12,8))\n",
        "fig = sm.graphics.plot_partregress_grid(prestige_model, fig=fig)"
      ],
      "execution_count": 0,
      "outputs": []
    }
  ]
}
{
  "nbformat": 4,
  "nbformat_minor": 0,
  "metadata": {
    "colab": {
      "name": "Clase _1_Introducción_Python.ipynb",
      "provenance": [],
      "authorship_tag": "ABX9TyNxo1hrjg1DiA1A8P9wdCKg",
      "include_colab_link": true
    },
    "kernelspec": {
      "name": "python3",
      "display_name": "Python 3"
    }
  },
  "cells": [
    {
      "cell_type": "markdown",
      "metadata": {
        "id": "view-in-github",
        "colab_type": "text"
      },
      "source": [
        "<a href=\"https://colab.research.google.com/github/CoriRay/Python-para-economistas/blob/master/Clase__1_Introducci%C3%B3n_Python.ipynb\" target=\"_parent\"><img src=\"https://colab.research.google.com/assets/colab-badge.svg\" alt=\"Open In Colab\"/></a>"
      ]
    },
    {
      "cell_type": "markdown",
      "metadata": {
        "id": "ouRY4giK05_V",
        "colab_type": "text"
      },
      "source": [
        ""
      ]
    },
    {
      "cell_type": "code",
      "metadata": {
        "id": "ejYGdFwsUuBn",
        "colab_type": "code",
        "colab": {}
      },
      "source": [
        "Por qué es importante\n",
        "Usos\n"
      ],
      "execution_count": 0,
      "outputs": []
    },
    {
      "cell_type": "markdown",
      "metadata": {
        "id": "yFCQBeZX35UV",
        "colab_type": "text"
      },
      "source": [
        "#**Tipos de datos**\n",
        "Son tres los tipos de datos más importantes:\n",
        "\n",
        "  -String, que es texto\n",
        "\n",
        "  -Integrer, que son números enteros --> \n",
        "\n",
        "  -Float, que son decimales\n",
        "\n",
        "Para profundizar : https://realpython.com/python-data-types/ "
      ]
    },
    {
      "cell_type": "code",
      "metadata": {
        "id": "EN_aQWik5_wf",
        "colab_type": "code",
        "outputId": "652a8884-87ac-4d2e-d5a6-b007653ba0ec",
        "colab": {
          "base_uri": "https://localhost:8080/",
          "height": 33
        }
      },
      "source": [
        "nombre = 'Rodrix'\n",
        "type(nombre)"
      ],
      "execution_count": 0,
      "outputs": [
        {
          "output_type": "execute_result",
          "data": {
            "text/plain": [
              "str"
            ]
          },
          "metadata": {
            "tags": []
          },
          "execution_count": 21
        }
      ]
    },
    {
      "cell_type": "code",
      "metadata": {
        "id": "D3DJwrXu8UG7",
        "colab_type": "code",
        "outputId": "810d6abe-90f6-4368-d2e4-bb9fa41b67e1",
        "colab": {
          "base_uri": "https://localhost:8080/",
          "height": 33
        }
      },
      "source": [
        "edad = 25\n",
        "type(edad)"
      ],
      "execution_count": 0,
      "outputs": [
        {
          "output_type": "execute_result",
          "data": {
            "text/plain": [
              "int"
            ]
          },
          "metadata": {
            "tags": []
          },
          "execution_count": 15
        }
      ]
    },
    {
      "cell_type": "code",
      "metadata": {
        "id": "lsz-xAog8aum",
        "colab_type": "code",
        "outputId": "dcf1198f-c80c-4487-ad99-5a373ce63766",
        "colab": {
          "base_uri": "https://localhost:8080/",
          "height": 33
        }
      },
      "source": [
        "peso=70.5\n",
        "type(peso)"
      ],
      "execution_count": 0,
      "outputs": [
        {
          "output_type": "execute_result",
          "data": {
            "text/plain": [
              "float"
            ]
          },
          "metadata": {
            "tags": []
          },
          "execution_count": 16
        }
      ]
    },
    {
      "cell_type": "code",
      "metadata": {
        "id": "U5ziafdH8jAv",
        "colab_type": "code",
        "outputId": "bc69e250-9a3b-461b-ca54-7ba742b4eb1e",
        "colab": {
          "base_uri": "https://localhost:8080/",
          "height": 33
        }
      },
      "source": [
        "dato = print(nombre + ' tiene ' + str(edad) + ' y pesa ' + str(peso) + ' kg')"
      ],
      "execution_count": 0,
      "outputs": [
        {
          "output_type": "stream",
          "text": [
            "Rodrix tiene 25 y pesa 70.5 kg\n"
          ],
          "name": "stdout"
        }
      ]
    },
    {
      "cell_type": "markdown",
      "metadata": {
        "id": "mf5XbDk51XyU",
        "colab_type": "text"
      },
      "source": [
        "# **Por ejemplo...**"
      ]
    },
    {
      "cell_type": "code",
      "metadata": {
        "id": "ktUryySM11Vn",
        "colab_type": "code",
        "outputId": "1638b6be-6bc6-474f-91e8-4e0a4c002620",
        "colab": {
          "base_uri": "https://localhost:8080/",
          "height": 293
        }
      },
      "source": [
        "print('Cliente, saludos')\n",
        "print('¿Cómo se llama?') # Preguntar por tu nombre\n",
        "MiNombre= input()\n",
        "print('¡Hola ' + MiNombre +'!')\n",
        "print(\"\\n\")\n",
        "print('¿Sabías que tu nombre tiene  una longitud de '+str(len(MiNombre)) +' cáracteres?')\n",
        "print(\"\\n\")\n",
        "print('¿Te puedo ayudar con tus cálculos financieros? Por ejemplo, si prestas determinada \\\n",
        "cantidad de dinero para ser devuelta en un mes a cierto tipo de interés te puedo \\\n",
        "ayudar en determinar tus ganancias.')\n",
        "print(\"\\n\")\n",
        "print('¿Cuánto dinero prestaste?:')\n",
        "MontoPrestado=float(input('Escribe un numero: '))\n",
        "print('¿A que tipo de interés?:')\n",
        "TipoInteres=float(input('Escribe un numero en fracción(e.g 0.12): '))\n",
        "Ganancia=MontoPrestado - MontoPrestado*TipoInteres\n",
        "print('Tus intereses devengados son: ' + str(Ganancia) )"
      ],
      "execution_count": 0,
      "outputs": [
        {
          "output_type": "stream",
          "text": [
            "Cliente, saludos\n",
            "¿Cómo se llama?\n",
            "aea\n",
            "¡Hola aea!\n",
            "\n",
            "\n",
            "¿Sabías que tu nombre tiene  una longitud de 3 cáracteres?\n",
            "\n",
            "\n",
            "¿Te puedo ayudar con tus cálculos financieros? Por ejemplo, si prestas determinada cantidad de dinero para ser devuelta en un mes a cierto tipo de interés te puedo ayudar en determinar tus ganancias.\n",
            "\n",
            "\n",
            "¿Cuánto dinero prestaste?:\n",
            "Escribe un numero: 1000\n",
            "¿A que tipo de interés?:\n",
            "Escribe un numero en fracción(e.g 0.12): 0.12\n",
            "Tus intereses devengados son: 880.0\n"
          ],
          "name": "stdout"
        }
      ]
    },
    {
      "cell_type": "code",
      "metadata": {
        "id": "R9TwAQ3g2JL9",
        "colab_type": "code",
        "colab": {}
      },
      "source": [
        ""
      ],
      "execution_count": 0,
      "outputs": []
    },
    {
      "cell_type": "markdown",
      "metadata": {
        "id": "rz6cCR2Y-RCX",
        "colab_type": "text"
      },
      "source": [
        "# #**Estructuras básicas de datos**\n",
        "Tenemos a 4 estructuras principales \n",
        "\n",
        "-Tuplas:\n",
        "\n",
        "-Listas:\n",
        "\n",
        "-Diccionarios: \n",
        "\n"
      ]
    },
    {
      "cell_type": "code",
      "metadata": {
        "id": "Xy8OqKe81y-Q",
        "colab_type": "code",
        "colab": {}
      },
      "source": [
        "C = [-20, -15, -10, -5, 0, 5, 10, 15, 20, 25, 30, 35, 40]"
      ],
      "execution_count": 0,
      "outputs": []
    },
    {
      "cell_type": "markdown",
      "metadata": {
        "id": "8jpUoabBLY8-",
        "colab_type": "text"
      },
      "source": [
        "# **Desarrollo de Ecuaciones**\n",
        "Librerias Numpy y Sympy\n"
      ]
    }
  ]
}
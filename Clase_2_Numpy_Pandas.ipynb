{
  "nbformat": 4,
  "nbformat_minor": 0,
  "metadata": {
    "colab": {
      "name": "Clase_2_Numpy_Pandas.ipynb",
      "provenance": [],
      "authorship_tag": "ABX9TyOG5JsCg1Knn0S5sPGIiQtp",
      "include_colab_link": true
    },
    "kernelspec": {
      "name": "python3",
      "display_name": "Python 3"
    }
  },
  "cells": [
    {
      "cell_type": "markdown",
      "metadata": {
        "id": "view-in-github",
        "colab_type": "text"
      },
      "source": [
        "<a href=\"https://colab.research.google.com/github/CoriRay/Python-para-economistas/blob/master/Clase_2_Numpy_Pandas.ipynb\" target=\"_parent\"><img src=\"https://colab.research.google.com/assets/colab-badge.svg\" alt=\"Open In Colab\"/></a>"
      ]
    },
    {
      "cell_type": "markdown",
      "metadata": {
        "id": "wq8vPdZkOTmF",
        "colab_type": "text"
      },
      "source": [
        "**Algebra matricial básica** \n",
        "\n",
        "Tocada en matemática para economistas\n",
        "\n",
        "![texto alternativo](data:image/jpeg;base64,/9j/4AAQSkZJRgABAQAAAQABAAD/2wCEAAkGBw0NDQ8ODQ0NDQ0NDQ0NDQ0NDhANDQ0NFREYFhYRFxgYKCggGCYnHhUVITEiJSkrLi4uGB8zODMsNygtLisBCgoKDg0OGhAQGi0fHx8rKy0tLS0rLS0tLS0tLS0tLS0tLS0tLS0tLS0tLS0tLS0tLS0rLS0tLS0tLS0tLS0tLf/AABEIAIUBfAMBEQACEQEDEQH/xAAcAAEAAgMBAQEAAAAAAAAAAAAABgcBBAUIAgP/xABQEAABAwICBAcLCAgEBAcAAAABAAIDBBEFEgYHITETIkFRYXKxFDJCUnFzgZGhssEjJDM1dIKz0RU0Q2JjkqLCJYPh8AgmtOIWRFRkdYSk/8QAGwEBAAIDAQEAAAAAAAAAAAAAAAMEAQIFBgf/xAAyEQACAQMDAwMCBgEEAwAAAAAAAQIDBBEFITESMkETInEzURQjJDRhgUIGFaHRQ1Kx/9oADAMBAAIRAxEAPwC08f0jioxlBEk5HFj5G9LjyD2qelQc9/BpKaK+qsTqJpDK+V+f91xblbzNA3BdKNNRjhETk2bFPpBXx7qqQ9e0vvgrV29N+DPU2dKDTWsb37IJPQ5rvYbexQu0i+DKqNnYpdNYS0meJ0ZBbZrDwma99u0C1re1QytJrg29Q6FPpVQSftsh/iMe0eu1vao3b1F4M9Z06eugl+jmik6j2u7FC4SXKNso2VgyZQBAFgBAFkBAEAQBAEAQBAEAQBAEAQBAEAQBAEAQBAEAQBAEAQBAEAQBAEAQBAEAQBAEBABgdPKwPPCB8jWvc7hC5znEXJOa65L1q4py6fBb/CwZrS6MeJP/ADR/EH4KzT/1G1tKBHKyXhmnNo9UN3cG/qu/MBdCjrtCfJBK0mlk5WYDcu0v5KucPBi6yAsvAFljZeBk6GH4vUUzw9kjzbN8m57+C3EC7b7bXv6FDUoxn4MqTN6DTCvZvfHL5yIf2WUbtKfg29Q6dPp2/wDa0zT+9G8t9hB7VE7P7M29Q6VPprRv78Sx9LmZh/SSfYopWk0ZVQ6zcXpLgGoia5zWvDXPDXZSLg2PQoPSmvBupG7HIHC7SCOdpzBatGT9FgBAEAQBAEAQBAEAQBAEAQBAEAQBAEAQBAEAQBAEAQBAEAQBAEAQBAEAQBARKi+ii81H7oXkrn6rOpT7T91WJGfL9x6rlLR70az7SuyP9+hfSov2RPNVe4wtiPqMoZ6zObYtiTq2GZYTMepsLrOTZSRkIjZPJm6x1J8MYMLbYysn1FI9huwljvGa4td7Fq4x5Znk6VNj1fH3tTJ/mFsnvXUUqFNxykbKUmTTRHFZaqOThi0uY5oDg3LmBHMqFekoYJYMkSrmwQBAEAQBAEAQBAEAQBAEAQBAEAQBAEAQBAEAQBAEAQBAEAQBAEAQBARSmFo2D9xvuryV19VnTp9p+qrIlMO3KSmvfE1lwyu37yvpUOyJ5qt3HytiIID6O70/BbEng+VqR+AgPpvKsPtZLT5J26hgeBnijOzxW5vWF4B31anN9MvJ6BUotcGpLgFKdwezqu/O6s09cuVy8kcrSD8GhV6OBjC9kzuK1zsrm99YX3g/BdK3151JqEof3kr1LNJZRw7r063SKD2eETTV33tT5YuxyoXnKJaZMlSJQgCAIAgCAIAgCAIAgCAIAgCAIAgCAIAgCAIAgCAIAgCAIAgCAIAgCAgNTDXZy6CSMMJuInX2N5BdwPaubUrWMnipH3FiMaqj7Wfn3biEffUzJG/w/wDQnsUf4axq9k+k29StHlZM/wDiAM2S08sZ/wB89kjo+WpQnnBn8TLGGsEVfvXr4rEVk41ROTbZ8rbBDsFh7DBnk+98Fttgk5Rha5+5H/AWQZB/36Fh9rJaXJYcR4g6rexfNK6/NZ6WHB9qJmx+VUPk5OpJ7pVi1+pEjqcEDC+kx7UcF8kz1d/+Z/yP71RveYktMmapEplAEAQBAEAQBAEAQBAEAQBAEAQBAEAQBAEAQBAEAQBAEAQBAEAQBAEBF2bl5K7WakkdOGHEyoOpkuwW9OclJbmrWSO4HQQysmEjA/LLlDtrXbhyhek1O+rUVBwfJQoUozzlG1No5TndnZ97N2hU4a9XXc8ksrOm+DTl0YPgTD7zXN9oK6FP/UMf8oleVh9jj11Gad5jeQXcV3F4zdo9C7lpdQuYdcSlWpdDwaqspbZIOjcLGDHQZaVhrZm0FuWDTG8bD/Db2BfObmEvUex6Om1g/VVsG5+c/eP6ruxTW31Ims+CBL6VDtRwpck11f5bT7TnPBZm2s1reNaxvtvt5AqF490b0yZKmShAEAQBAEAQBAEAQBAEAQBAEAQBAEAQBAEAQBAEAQBAEAQBAEAQBAEBGB4XXkHqeV5W8z67OnR7UZVNfwShbRfuRh8HG0e76o8/+a7esfTplO25kdlcIuhARDSj9Y+7GvcaH+2OLf8Accddk5oTJlSPpiN4RJBkmp8BGRj455oXOY1zsvjEbd1l5OvqyUnGcMnXhb5hs8H6dx4hH3lU2Qc0n+oPaovxNhVXvhg39OrHh5Pl9XXsBElOx7cvfR/6E9i3p0LGck4SwaupVSxgjnavWw3ic15W+CYavDxqjyRdrlUvfBvTJsqBMaWJPnbBIaVsclQGngmSuysc/kBI3LMUs7hlb6R6e45hfB92YXSNbLmDJGTukjc4bxcbjy2PwK6lvZUK3bIhnUcTp6v9YzcVmfTVEbKep2vhaxxdHOwDjAE8o325tvIVFeWLoRUk8ozCr1FgrnEoR58A52Nvq2U73UUcUtQMuRk7yyJwuL3I3bLremo59xhlc49rExnD52U9ThdM2WXKYskzpBNc24pHTssbFdOjZUqicoy4InOWxMtHavGZZP8AEKOlpoeCJbwVQZZeFuLAjda2bl5lRrRpLslklWSTKAyEAQBAEAQBAEAQBAEAQGFhgjOP1WORznuCkoqinyN2zTuil4Tbcc1tys0o0n3ywasrup1x18MkkUuH07JYnvilBlecj2khwNuYgrqR0uE4qSnsQutJS4JNRaQ6U1DczMFpomltw6eo4P8Apvm9YVSdC2i8def6N+qT8GljGmOklAwy1OD0/At2vlhkdIxrRyuLSS0dJFlmnbW9R4U9w5SNrRTWvSVsraeqhdRTvIaxxfwlO9x3Nz2BaT0i3Slxps6aco7oxGqnsyx1zSYygCAIAgCAgddjkcMsgdHI5nCPcJQ0Na67ifCtuva/LZc6tpPrS6lLcsRuXGK2PqLH6V/huZ1mntFwqM9HuY8L/kmV1B8m5DWQyd5LG7qvbm9SqSs60H7okqqpo52j549V5/4uXS1eL9Ongr227kdlcIuhYBEdKh84+5H2le30J/pjjX/ccZdk5oQwfTd6PhklPkn1B9DF5qP3AvnN59aSPSUuw/dVSQw4bCpaTfVHH3NZ4wV+F9Mh2r4ODLkl+rv6So6kXa5U73wbUycKgTGEMFY6+/q2m+3N/AlXU0p4qNr7EVfgrHSnAanA68ASPGVzZ6Kqbsc5oOw8127iPgV16NeF1ScWiCS6GXlq/wBLI8XoxJsZUxZWVMQ8F/I8fuu3j0jkXnrq2lRnjx4LUJZRK1UNwsgqnW1HfF8B/eqS31VEB+K61g/yahFU8FqrkkplAEAQBAEAQBAEAQBAEAQBYBhZB5c1hD/F8St/6qX2r1dnj8Ovgpz7z1C0WC8o+cltAi+wpnBk81aysEjoMVngiAbC9sdTEwbmNfe7egBwdYc1l6iwqupSXUUqiUWXvoFXSVOE0U0pLpX08Ye53fOc3i5j5bX9K89dQ6K0kW4PKJAq6NjKyAgCAICLtHfD9+X8Qry97KSrvc6VJexZNeWhgd38MbunI3N6961hf1odshKlB+DTl0fpXbmvZ1ZD/ddXqOs18pS3IZ2kXuiL8PJE8iN72dVxbmsTvtvXrvRp16cXURzJ1JUZYibUWPVLf2mfrNa7ssVTqaRaPhYNo31TybsWk8nhxNPVc6PtuqM/9PQl2zwWI3/3OfjFaKmThAwjiNbldbkJOz1rp6faO1p9DK9xUVXg5910MY4Kbi+AsfyzTEnyZbvTlMkp5yT3DT83i81H7oXzvUFiu8HoqXYjYVTbJMZC2i0pL5MPhletGwL6dTbcVj7HAcd2THV9G7PO/KcjmsbnPK4E7B61SvHwb0ybqiShAVhr8+rqX7c38CRdLS++XwQ1uCW6W6NwYtROp5eK+2eCW2Z0EoGx3k5COUEqrQrypVOpf2bSjlFB4bXV+j2JuJbkmgdwdRAXcSeI2JF+UEWLXcmw84XoqkYXdErr2M9GYHi0FfTR1VO7NFK248Zp5WOHIQdhHQvMVaTpy6WW001sdFaBFX62PrbR77Y/8emXTsPpVPj/ALIqvgtBcwlRXuL62cPpu9pq6Y3LQeA4GPMOS8hB9QKv0dPqVH9jSVTBtavNNZsafVl9PHTx0/AcG1shleS7PfM6wHgjcOda3lp6GN8tiE+ol1dVMghkmkvkiY+R+VpkdlaLmwG07twVNRbkkSFf4trgooOLFR1sr7XbwrG00bh5XEu/pXQo6ZOe7eCKVTpJDq90kmxajfVSwsh+cSRMYxxdxGhu0k8tyVXu6CoT6UzeEupG1pLpVTYZkFQ2pe6VrnMbBA+XY217kbBv5StKVCVXZGZPCILNrhEs8UFHQPHCzxRGSqeGlodIGniMvt2+N610FpUlHqkyL1cvB2NL9Y4pJnUmHUz8Rq2fTcHndFAfFOQEuPOBa3PfYoLey9RdU30r/wCm8pYIlS64sQimLayhgIBF44xLTTNb98uueiwV16VCS9kiJVWuS0MO0roKig/SImDKVrTwrpeK6Ije1w5DtGwXvcWvcLlVLacJ+m1uTRmpFf4trZrn3fh2FvNMN1TURzSNe3nsywb/ADFdClp0Me6e5HKo/B++i2uCOaRkWIwsp85a0VMTnGAOO7O07WDpuemw2rFfS5Rj1QeTEa2dmWuuSTmUB5i1jD/GsQ+0/wBjV6qzx+GXwUqvcenF5V7FwJjcyec9Oql+NY86OiHC5jHR07hufkvmffmDjIb8wuvS2iVC36p7FSfveC4KruzCKKlgw/D/ANIsp4eClHdLaZ4yhvGAIOcuOY2HN0riLor1G5y6clhe1YIZHrpe54Y3CCXuc1jWd2cYvJsG2yb77Ff/ANpxHq69vgh9dp4LC0exHEKgv7tw5tAAGGO1WyqMhN7ghoGW2xcurCEeyWf6J4vJ9aSYjX0zGOocP/SBJPCs7qZTGNvIRmBzX2+pZo04TeJywZbwQWi1q1c9V3HBgb5KoOex0PdtnNc02dmJZZtuUlXpadCEOtz2+CFVW3wWThssskEb6iIU8zmAyQiQS8G7lbmGx3lXMls8J5ROmcTwpPPz/iuXlL9fnyOlRx0IyqmxNsZWY461gw84K+rB8s/rO98r6RbvNJHnLjv3PxU+fsVwsc8jc6GBtD6iMEAtzOzNdxm945UtTnKFrJw2ZctIpzwyTyYPSv8A2QHm7x9hXj4ardRe0jsStofY05tGYD3j5Gdazm9l/ar1PX60X71kglZRfBy8RwM07OE4QPbma3vXNdt9JXXstXjdS6enBVq2fpb5N+lnr442WhZJFkbl8bLbZuPwVC5pWFSbTl0ssQnWjBYWT9P0+9n0tLIzq/k4DtVb/Zqct6dTJurqa7omxDpBSv3l7OtGe1twoXo9aMk1ujf8TBkUt/KvaU8qKXk5UsPgl2rv6So6kXa5VbxcG9MnCokoQFYa/Pq6l+3N/AkXS0vvl8ENbgsxm4eQLmyznYmRB9ZuhbcVp+GgAFdTtdwXg8OzeYXH2tPIeglX7G7dGXS+GR1KeSrNXWmD8HqjHNn7jnflqmOac0Eg2cKG7wRazhygc4C617axrU+uPJXpzcHhnoiGRr2tewh7HgODgcwLTtBB5V5trpeGXM+StNbH1to99sf+PTLpWH0qnx/2Q1fBaC5hKQrXDHfAao+I6ld/+hg+KvadL9REjqr2EZ1AN+Rrz/Fph6mu/NWtYXvj/Zpb8FtrjcFgq3X5GO4qN/hNrHN+6YXk+6F19Jf5jwQVksHU1Jt/wVnTU1J/qt8FBqSxXZtR7SfKgScnmnSykLtIaiCMmN0uJxsa9u9jpHts4dILrr1FvLFqpfwVJLNTB6EwTBqaggbBSxiONvpe93K558InnK83VqzqSzJltRwRXW7gMNVhc1QWN7oo2ieKW3GyA8dhPKC2+znAKt6dWlGslnZkdVLBXWqHBo8Qq5Y53OkpaZrKo0pPyMtTfKx7m7jYZvYulqdToimlu/JFRW5fzWACwFhzLz+W3uWsJFC66MChpK+KaFjY21kcj3xtblZwrHAOcBuFw9t+kE8q9BplaU6bhLwVascPKLb1fVLpsHoJJCS/uWNri7eS0Zb+xca7io1pIsQeUSJVjY8xax/rrEftP9rV6uy/ar4KVXuPQOklPicjIzhk9PBK1zuEbUsMkUrCNguNrbHm515ulKCb61ktsieIaN6TYi0w1mKUVLTu2PbQxSOMjdoscwafRmsVahXt6b6ow3NcPgkOiOhVFhLD3O0vmc3K+pms6Vw8UbLNHQOYXuq9xdVK3PBmMOkk6rm5511s4G6gxZ8kV2RVnzuJzeLklzccDpDrO++F6TT63q0On7FWrFJ5L00YxYV9BTVYt8vCx7x4strPb6HBw9C8/XpunNxfgsReT9cexNlDST1UnewRPky+M4DY30mw9KxRpuc1FeTLeOSDam8DcynlxSoF6nEZJHtdy8CXEk9GZ93eQMV/UKybVKPESOnFFlLmEpE31DGSSMc9rH8LO7I93Buc0yuIIB3gjlXAv7Wq6spJZRepVF0o/YFc2UJR5RZzngysR5TwG9iAV4+Vk68nvlfRbXHoxbPO3OOs11YKwQHQwL9ai858CqGqftpFyz70TdfPz0ATyDmaRD5qes3tXW0b9yv7Kt12G1hp+bxeaj90Krf/AF5ElHsNlVFOSezJWka8tFE7v4Y3fdGb1q1SvK8WsMhnTTRBh0r6LFrpWPscaSwyWavXfKzj+FGfU4/mqd52o3pk7VAlCArDX59XUv25v4Ei6Wl98vghrdpZjNw6oXOfJMj7WAVBrf0IvmxSjZxm8atiaL5mj9uBzjwujbyG/Y068/8AFP8Aor1aflGjqh034F7cNrJPkZHZaKV26KQ/sCeYnveY7OUW31Gz6l6kP7FKp4Z3NbH1to99sf8Aj0yr2H0anwbVeUWguYTEP1ufUNZ/9b/qY1c0/wDcRI6vYyLagfoa/wA7Te45XNXWJRXyaUPJbK438k5WGvz6vpPt7fwJV1tJ+qyGt2nS1J/UjPtFT76i1P8AcMzR7Sernkh500jP/Njv/lqP3ol6Wj+zXwVn3nosLzRaI9rB+pcS+w1P4ZU9r9ZGJcMrTUD+t132aD33Lrat2QK9Dll2LhFkpz/iAHHw3q13bCu3pH+RXuPBOdV/1FQeZd+I5c2++vIkh2krVYkPMOsf66xH7T/a1epsv2y+ClU7z06F5YuoygCAwgIHriwTuvCXysbeWhd3S3piAtIPJl433Ar2m1vTq9L4ZHVjlEf1EY3mjqMPedrHd1U4/huNpGjyOsfvlWtWo4amaUZZ2OvrPe+umocDgcQ+umbPVFu+OjiN8x5toJHSyyr2S9OMqz8cG893gn1NAyGNkUbQyONjWMaNzWNFgPUFQlLLySJH7rXIIbW4VBNJI6RhL3Sy8bMc2UPcBy81lx7rUa1Kq4xexbhRhKKyaR0eYPoppouq78rItZyvfHJs7X/1eB3DXx/R1Yf5xv5g9q3V3Y1MddPH9mvp1Y8MjNa14kfn7/M7P4ua5vZertuh0048HJrpuXuPwU2CHoCYMdBvYKfnEPXaqGpLNtItWneicrwEk0zvphaeTJzdIf1V/Wj98LraN+6RWuvpmxhf6vD5pnuhVtQ+vI3o9htKl9iYLeGOtfJh8FflfS6PYvg8/PuJRq/PzmXzH94Ve97USUyfLnkoQFWa/wB9sPpB/wC9zeqCT811NLXuk/4Iqq2LOp3XYw87Wn2Lmy5ZIj9VqZPgi+w7VngFAa0tCDhs/dNMw9wTu3N3Usp/ZnmafBPJu5r+hsLtVYdEuSrVhjdGpDpRPiVTgcdTx5qGujZw/LPG+WDKXdIyEE8uw862lbKjGo1xJGFPqwejF5stkR1rQmTAq0AXsyKS37rJmOd7AVbsH+oiR1V7WQDUVi0UVRVUkjg19SIpIA4gZ3MzBzR02c025geZdLVaTlFTRFReC7CbLhYyWSkNcekArhDHTN4Sip53NfWN+ilqsh+Sjd4Qa3Nci4uR6e7pdLobb5K9d7Eu1Hvvg5/drJ2+xp+Kpan9dm1DtLCXPJjzdpHJ/wAzyO5sXg/plYD2L09BfpF8FN956RC8wXCN6xX5cFxH7HM3+YZfirNovzomsuGVpqEf8+rB41LG71Sf9y6mr9kSChyy71wiyU1/xAn5TDR+5WdsK7ekf5Fe48E41VuvgVDy2ZK31SvHwXPv1+fIkp9pLVUJDy7rEffF8SN7/OZW+rZ8LL1dmv0y+ClPvPUDXXFwvKPYun2gCALAPylja8FrgHNcCCDuLTsIWybW6McnnGIv0dx+23JS1GU7zwlC/tORwPWb0L0211bY8sqP2TLQ1eNOI1lfjkjeLPI6joM3g0cZtmHNmIF+kOXIu/yoxo/bksR3eSw1zyQICNS9/J52X3ivMaj+4kdG37EYVAnXAW0eTD4IHi36xN15O0r6FYft4nnrvvNRXCrkysmeo+g627vuL2rLSawyVSkbEWJVDN08n3nZvY66pTsLao/dEljdzibsOkVSN+R/Wb+RCpVNDt5P2rBPDUGj6rceM0JjMIDnZeM13MQd1uhaWmjKhXVSMs48G0rvrjg6GG43TsijjeXscyNrXcXM3MBtta65moaTWqVnOC2+S1RuI9COlFiVO/dNH1S7K71Fcypp9eDy4lhVos2mm6qenKMlt5N3JOJApBxz1ndq+lUWvTj8HCnvJkn0Al+Wkjs36IvzW43fAWvvttVe87UbwJ4ueSmpiMUskEjIJRBM5jhFKYxLwUhGx2U7HW5lmGM5a2DK9xzVviGJFnd2OOnazNkHcLI2sJtewa4Dk5dq6VG+hSXsh/yQyh1He0d0dxWjkiEuNOq6SJpaaeSjja9zchDRwty7YbHbfdZVq1elPiGH8m8Vgl6qG4WQauIUUVTDJDOwSRStLHsd3rmnkWYTcHlGGslTx6oqimroKimq4pYYqyCfJMHRyiJsocRcXDjYdF+hdZ6oqlPoaIPRwy4lyCwfhVU8c8b4pWh8UrHRyMdta9jhYtPlBRNqWVyGslO4vqYnEhNBVxGLNmYypztfHzDO0HNbnsF26erR6empHLK8qWTfwzVdiEtm4pi00lP4dNDPPK2Rvi5pCA3+U+hRT1CCXsjubKnhkj0y0EZiVLS0tPKyiho3OcxrYOEbbLlAABFuU8t1Wtrx0ZObWWzacOpGno9oJieFxviocYjbHI/hXRy0DZBwpABcOPcXDQPQt695Tr7yhv8AIhBx8kmx/D8Rn4PuLEI6HK13CF1IypdIdliMxGW23n3qrTnTi/dHP9m0k35K+n1NyySPmkxcvme90pl7lyudITmLtj9hvt2Lpx1WKj09G3yQui2ye6PYbilPIe7cTZXxZC1re42Uzw+44xc07dgOy3KubVqU5bwjgmSaRx9JNEsVxETQyYy2Ojle5wp2ULLiLNdrC/Nd1rDbsvZTULilT36Mv75NZwb8nGwXVdW4fNw9FjXASljmOd3E2QOYSHZSHOtvA9SsVtRhVWJwz/ZpGm15LDwiCoigayqqGVM4zZ52RCBr7uNuICbWFhv5FzKmHLMVgnRFdYOgbsakp3irFMKdkrMpg4bNnLTfvhbvVcsr30E9skc4dR8aN6G4nhjY4YMYY6kZKHmmfQMPFL8z2tfmuM13eS6V7mnWbcob/fIhBrydTSDBsXqJs1HjAoYMjW8D3FFO7NynO432qKjVowXvhl/Js4t+SETal5JC98mLZ5ZHOe95pO/c43cXcfaSSfWugtWSSiobfJC6G/JKcE0axqldCH473RTRFgdA+hjzSRDe3hCS7dy7VSrXFGeWoYfySqLXkm6pm4QBAEBT2u7AjNU4fLBY1FU7uHg+V7s14z5AXOuekLsaZXUYSUuEQVY5ZZ+BYZHQ0kFLF3lPE2PNuLiBtcekm5PlXLq1HOTk/JMlsdJRmQgI1L9JJ51/avM6iv1Ejo2/YjC55OuAsrkeCCYwLVE3Xk9puvoWn/t4nnbvvNNXSqEBkbj91bL+SSHBhavBHywmRszIWeMkkNpYJrhcEclLDnjY/iN75od2rwuoXE6dzLpZ3qVOMoLYS4JTP/Z26ri32blHDVbqPMtjLtoGqdHWDbDPNG7/AHzWVyGs5xGcMkbtWuGRyQWJHiuc1zvG2716+jJTgpI5k9m1kkegB+dydMDvfaoL3tRvAsBc4lCAIAsAygCAwsgIAseQFkBYATGwCyAgCZAQBY3HIWQEAWAEAsgFlkBYAWcgygCAIAgK6wh36X0hnrO+o8GY6jpT4L6130rx5BcfyFX6i9Kgo+ZckfLLEVAkMoAgNCbDYnEv47Xne5rzb+U8X2KvUoU6j96N41JI13YOfBmP+YxrvdyqtPTaL4WCRXMkfi7DZxu4N3kcWn1EfFVpaTjtkSK52Ihj2AVYkMohc8PdIcsfHLALWJy8+31L0ljJU6ShJ8HOuY9bycGaJ8ZtIx8bvFkaWu9qvJ54ZT6ZHwtv7NT6G4rOWSQ4Z8rBH5CAyFlG8G8k4wT9Vi6vxK+f6t+6keht/po3Vz/BYMraHcgyCVX0knnHdq+j2n0YnAqdx3tAz88PmJPfasXfYKZYS5hOZQBAEAQBAEAQBAEAQBAEAQBAEAQBAEAQBAEAQBAEAQBARbWHilRRYXPLSNkdUOyRxOijdIY8zwHSGwNrNzG52Xtzqe2gp1EpcGk21wVvR6a6S4rF3HTUzBK9vByVkUUkTmtIsXF5OWM85G3xQDZdWdpbUX1N7ESlNlp6H4BHhdDFSRkOcwXlktl4WU7XO8nIOYABci4qurPqJkjuqI2MoAgMIAgCcAID4ewEWIBHSiZjBz6jAqKXv6WLytYI3ettit1VqR4Zr0RNF+iFFaTIx7C9jmA53ScHcb25r2KkVzUNfSRxajQKQfQ1TDzNkjLbekE9imjdvyRO3yc2fQ+vj72Nknm5B/dZTK5g/Jp+HkjnSYRVxkB1LONrR9EXN3842LeNSD8mFTaZLcJjMcDI37Hx5mvbmDsrg87DZeG1aLdzJo7tv9NG2uc00WcmUjygQWrHysg8LhZG5fvnYvo9m/yUcGr3ky0PwKWB3dE3Ec5ha2LwrEg3dzHZuVe5rqWxtGJLVUJDKAIAgCAIAgCAIAgCAIAgCAIAgCAIAgCAIAgCAIAgCAIDCALACAygCyAgCAIAgCAIAgCAIAgCA15qSKTv4439ZgcsNIznBquwmEi4Dm9V77eom3sUM7WlPuRuqjR+LsINuLMf8xjX+7lVaenUM7IkVeR+GEaPxQPfM4iWZ0kjg8tsGXeTxRc28q6fW1BQXBV/yyd9aGwQBAEAQBAEAQBAEAQBAEAQBAEAQBAEAQBAEAQBAEAQBAEAQBAEAQBAEB//2Q==)"
      ]
    },
    {
      "cell_type": "code",
      "metadata": {
        "id": "Fac0rY8SKTaS",
        "colab_type": "code",
        "colab": {}
      },
      "source": [
        "import pandas as pd\n",
        "import numpy as np"
      ],
      "execution_count": 0,
      "outputs": []
    },
    {
      "cell_type": "code",
      "metadata": {
        "id": "AD480oS7KV0g",
        "colab_type": "code",
        "outputId": "e89e817e-e334-4e57-e84b-96b39b2e5b41",
        "colab": {
          "base_uri": "https://localhost:8080/",
          "height": 70
        }
      },
      "source": [
        "#Confeccion de una matriz\n",
        "\n",
        "matriz=np.array([[3,4,-1],[2,0,1],[1,3,-2]])\n",
        "matriz"
      ],
      "execution_count": 0,
      "outputs": [
        {
          "output_type": "execute_result",
          "data": {
            "text/plain": [
              "array([[ 3,  4, -1],\n",
              "       [ 2,  0,  1],\n",
              "       [ 1,  3, -2]])"
            ]
          },
          "metadata": {
            "tags": []
          },
          "execution_count": 2
        }
      ]
    },
    {
      "cell_type": "code",
      "metadata": {
        "id": "H4XMXuynL2cV",
        "colab_type": "code",
        "outputId": "7de397d1-8b18-484b-d475-df9d570964bb",
        "colab": {
          "base_uri": "https://localhost:8080/",
          "height": 70
        }
      },
      "source": [
        "#Inversa de una matriz\n",
        "\n",
        "inversa=np.linalg.inv(matriz)\n",
        "inversa"
      ],
      "execution_count": 0,
      "outputs": [
        {
          "output_type": "execute_result",
          "data": {
            "text/plain": [
              "array([[-0.6,  1. ,  0.8],\n",
              "       [ 1. , -1. , -1. ],\n",
              "       [ 1.2, -1. , -1.6]])"
            ]
          },
          "metadata": {
            "tags": []
          },
          "execution_count": 3
        }
      ]
    },
    {
      "cell_type": "code",
      "metadata": {
        "id": "H_nlRc-fMjru",
        "colab_type": "code",
        "outputId": "a570a534-492a-40e4-af5b-5654d2c1023d",
        "colab": {
          "base_uri": "https://localhost:8080/",
          "height": 70
        }
      },
      "source": [
        "#Transpuesta de una matriz\n",
        "\n",
        "transpuesta=np.transpose(matriz)\n",
        "transpuesta"
      ],
      "execution_count": 0,
      "outputs": [
        {
          "output_type": "execute_result",
          "data": {
            "text/plain": [
              "array([[ 3,  2,  1],\n",
              "       [ 4,  0,  3],\n",
              "       [-1,  1, -2]])"
            ]
          },
          "metadata": {
            "tags": []
          },
          "execution_count": 4
        }
      ]
    },
    {
      "cell_type": "code",
      "metadata": {
        "id": "-Zb5jAqPNn0D",
        "colab_type": "code",
        "outputId": "34cdeec9-14d5-4346-da20-6d2def7bc341",
        "colab": {
          "base_uri": "https://localhost:8080/",
          "height": 70
        }
      },
      "source": [
        "#Probando la inversa de la matriz\n",
        "\n",
        "identica=np.dot(matriz,inversa)\n",
        "identica"
      ],
      "execution_count": 0,
      "outputs": [
        {
          "output_type": "execute_result",
          "data": {
            "text/plain": [
              "array([[ 1.00000000e+00, -3.33066907e-16, -2.22044605e-16],\n",
              "       [ 2.22044605e-16,  1.00000000e+00, -4.44089210e-16],\n",
              "       [ 0.00000000e+00, -2.22044605e-16,  1.00000000e+00]])"
            ]
          },
          "metadata": {
            "tags": []
          },
          "execution_count": 5
        }
      ]
    },
    {
      "cell_type": "code",
      "metadata": {
        "id": "XqgmQz--OSST",
        "colab_type": "code",
        "outputId": "84be7f88-c295-4a82-83c3-4b49cd3bd4bf",
        "colab": {
          "base_uri": "https://localhost:8080/",
          "height": 34
        }
      },
      "source": [
        "a=np.array([[1,2,3],[4,5,6]])\n",
        "b=a "
      ],
      "execution_count": 0,
      "outputs": [
        {
          "output_type": "stream",
          "text": [
            "ERROR! Session/line number was not unique in database. History logging moved to new session 65\n"
          ],
          "name": "stdout"
        }
      ]
    },
    {
      "cell_type": "code",
      "metadata": {
        "id": "D05NspdaPrRi",
        "colab_type": "code",
        "outputId": "5e671955-5b91-4ed0-bb30-fdc61efc05fd",
        "colab": {
          "base_uri": "https://localhost:8080/",
          "height": 52
        }
      },
      "source": [
        "#Las demás operaciones como suma y resta de matrices no se alteran \n",
        "c=a+b\n",
        "c"
      ],
      "execution_count": 0,
      "outputs": [
        {
          "output_type": "execute_result",
          "data": {
            "text/plain": [
              "array([[ 2,  4,  6],\n",
              "       [ 8, 10, 12]])"
            ]
          },
          "metadata": {
            "tags": []
          },
          "execution_count": 7
        }
      ]
    },
    {
      "cell_type": "code",
      "metadata": {
        "id": "g67tQ-dvQJiU",
        "colab_type": "code",
        "outputId": "6eea2a63-422f-4f95-b060-a7a145537ffa",
        "colab": {
          "base_uri": "https://localhost:8080/",
          "height": 34
        }
      },
      "source": [
        "np.log(100)"
      ],
      "execution_count": 0,
      "outputs": [
        {
          "output_type": "execute_result",
          "data": {
            "text/plain": [
              "4.605170185988092"
            ]
          },
          "metadata": {
            "tags": []
          },
          "execution_count": 75
        }
      ]
    },
    {
      "cell_type": "markdown",
      "metadata": {
        "id": "EtVWGVzmRt4W",
        "colab_type": "text"
      },
      "source": [
        "**Carga de datos**\n",
        "  \n",
        "  -Desde archivos excel, csv, html, etc. La libreria Pandas es la libreria principal encargada del manejo de data.\n",
        "  ![texto alternativo](https://1.bp.blogspot.com/-o8QPG14kN8k/WMBf3Wn71hI/AAAAAAAAGsY/tf1_e7lf8zsQkKQkrhR6TDIKAbpp8TpmgCLcB/s400/pandas.png)\n"
      ]
    },
    {
      "cell_type": "code",
      "metadata": {
        "id": "yYexmNXFSMSb",
        "colab_type": "code",
        "outputId": "4f9c5991-5acc-4fa3-e129-bc6301b314e9",
        "colab": {
          "base_uri": "https://localhost:8080/",
          "height": 406
        }
      },
      "source": [
        "#Previamente ya hemos importado pandas --> import pandas as pd\n",
        "#Cargar un archivo excel:\n",
        "excel=pd.read_excel('taller1.xlsx')\n",
        "excel"
      ],
      "execution_count": 0,
      "outputs": [
        {
          "output_type": "execute_result",
          "data": {
            "text/html": [
              "<div>\n",
              "<style scoped>\n",
              "    .dataframe tbody tr th:only-of-type {\n",
              "        vertical-align: middle;\n",
              "    }\n",
              "\n",
              "    .dataframe tbody tr th {\n",
              "        vertical-align: top;\n",
              "    }\n",
              "\n",
              "    .dataframe thead th {\n",
              "        text-align: right;\n",
              "    }\n",
              "</style>\n",
              "<table border=\"1\" class=\"dataframe\">\n",
              "  <thead>\n",
              "    <tr style=\"text-align: right;\">\n",
              "      <th></th>\n",
              "      <th>Unnamed: 0</th>\n",
              "      <th>pbi</th>\n",
              "      <th>agro</th>\n",
              "      <th>pes</th>\n",
              "      <th>myh</th>\n",
              "      <th>man</th>\n",
              "      <th>eya</th>\n",
              "      <th>con</th>\n",
              "      <th>com</th>\n",
              "      <th>aleatorio</th>\n",
              "    </tr>\n",
              "  </thead>\n",
              "  <tbody>\n",
              "    <tr>\n",
              "      <th>0</th>\n",
              "      <td>Ene04</td>\n",
              "      <td>3.674966</td>\n",
              "      <td>3.270309</td>\n",
              "      <td>61.902124</td>\n",
              "      <td>4.776828</td>\n",
              "      <td>7.801136</td>\n",
              "      <td>2.557386</td>\n",
              "      <td>10.993667</td>\n",
              "      <td>0.397278</td>\n",
              "      <td>10</td>\n",
              "    </tr>\n",
              "    <tr>\n",
              "      <th>1</th>\n",
              "      <td>Feb04</td>\n",
              "      <td>4.245959</td>\n",
              "      <td>3.452198</td>\n",
              "      <td>27.829872</td>\n",
              "      <td>12.111244</td>\n",
              "      <td>2.173426</td>\n",
              "      <td>5.972559</td>\n",
              "      <td>2.716271</td>\n",
              "      <td>2.699564</td>\n",
              "      <td>7</td>\n",
              "    </tr>\n",
              "    <tr>\n",
              "      <th>2</th>\n",
              "      <td>Mar04</td>\n",
              "      <td>5.774257</td>\n",
              "      <td>2.545452</td>\n",
              "      <td>72.615069</td>\n",
              "      <td>6.970734</td>\n",
              "      <td>7.816418</td>\n",
              "      <td>4.580293</td>\n",
              "      <td>9.645661</td>\n",
              "      <td>4.360081</td>\n",
              "      <td>12</td>\n",
              "    </tr>\n",
              "    <tr>\n",
              "      <th>3</th>\n",
              "      <td>Abr04</td>\n",
              "      <td>4.247995</td>\n",
              "      <td>-3.179112</td>\n",
              "      <td>-2.356438</td>\n",
              "      <td>8.424624</td>\n",
              "      <td>2.982182</td>\n",
              "      <td>5.482907</td>\n",
              "      <td>8.820288</td>\n",
              "      <td>3.814925</td>\n",
              "      <td>-11</td>\n",
              "    </tr>\n",
              "    <tr>\n",
              "      <th>4</th>\n",
              "      <td>May04</td>\n",
              "      <td>3.950757</td>\n",
              "      <td>-1.748244</td>\n",
              "      <td>45.955804</td>\n",
              "      <td>0.031112</td>\n",
              "      <td>7.502775</td>\n",
              "      <td>5.244535</td>\n",
              "      <td>4.440325</td>\n",
              "      <td>5.025204</td>\n",
              "      <td>-3</td>\n",
              "    </tr>\n",
              "    <tr>\n",
              "      <th>...</th>\n",
              "      <td>...</td>\n",
              "      <td>...</td>\n",
              "      <td>...</td>\n",
              "      <td>...</td>\n",
              "      <td>...</td>\n",
              "      <td>...</td>\n",
              "      <td>...</td>\n",
              "      <td>...</td>\n",
              "      <td>...</td>\n",
              "      <td>...</td>\n",
              "    </tr>\n",
              "    <tr>\n",
              "      <th>183</th>\n",
              "      <td>Abr19</td>\n",
              "      <td>0.186118</td>\n",
              "      <td>4.572736</td>\n",
              "      <td>-63.022611</td>\n",
              "      <td>-2.610000</td>\n",
              "      <td>-13.208173</td>\n",
              "      <td>3.919233</td>\n",
              "      <td>9.260000</td>\n",
              "      <td>2.976007</td>\n",
              "      <td>-6</td>\n",
              "    </tr>\n",
              "    <tr>\n",
              "      <th>184</th>\n",
              "      <td>May19</td>\n",
              "      <td>0.710580</td>\n",
              "      <td>2.027902</td>\n",
              "      <td>-26.787452</td>\n",
              "      <td>-1.380000</td>\n",
              "      <td>-6.771168</td>\n",
              "      <td>4.180332</td>\n",
              "      <td>-0.150000</td>\n",
              "      <td>2.337415</td>\n",
              "      <td>-14</td>\n",
              "    </tr>\n",
              "    <tr>\n",
              "      <th>185</th>\n",
              "      <td>Jun19</td>\n",
              "      <td>2.620719</td>\n",
              "      <td>-0.005398</td>\n",
              "      <td>14.177953</td>\n",
              "      <td>-3.010000</td>\n",
              "      <td>0.458000</td>\n",
              "      <td>3.445021</td>\n",
              "      <td>13.630000</td>\n",
              "      <td>2.729538</td>\n",
              "      <td>14</td>\n",
              "    </tr>\n",
              "    <tr>\n",
              "      <th>186</th>\n",
              "      <td>Jul19</td>\n",
              "      <td>3.280000</td>\n",
              "      <td>-1.081548</td>\n",
              "      <td>52.332352</td>\n",
              "      <td>0.260000</td>\n",
              "      <td>6.312000</td>\n",
              "      <td>4.170000</td>\n",
              "      <td>0.760000</td>\n",
              "      <td>3.190000</td>\n",
              "      <td>-13</td>\n",
              "    </tr>\n",
              "    <tr>\n",
              "      <th>187</th>\n",
              "      <td>Ago19</td>\n",
              "      <td>3.390000</td>\n",
              "      <td>2.132288</td>\n",
              "      <td>2.295797</td>\n",
              "      <td>4.150000</td>\n",
              "      <td>1.655945</td>\n",
              "      <td>3.940000</td>\n",
              "      <td>4.530000</td>\n",
              "      <td>3.140000</td>\n",
              "      <td>-10</td>\n",
              "    </tr>\n",
              "  </tbody>\n",
              "</table>\n",
              "<p>188 rows × 10 columns</p>\n",
              "</div>"
            ],
            "text/plain": [
              "    Unnamed: 0       pbi      agro  ...        con       com  aleatorio\n",
              "0        Ene04  3.674966  3.270309  ...  10.993667  0.397278         10\n",
              "1        Feb04  4.245959  3.452198  ...   2.716271  2.699564          7\n",
              "2        Mar04  5.774257  2.545452  ...   9.645661  4.360081         12\n",
              "3        Abr04  4.247995 -3.179112  ...   8.820288  3.814925        -11\n",
              "4        May04  3.950757 -1.748244  ...   4.440325  5.025204         -3\n",
              "..         ...       ...       ...  ...        ...       ...        ...\n",
              "183      Abr19  0.186118  4.572736  ...   9.260000  2.976007         -6\n",
              "184      May19  0.710580  2.027902  ...  -0.150000  2.337415        -14\n",
              "185      Jun19  2.620719 -0.005398  ...  13.630000  2.729538         14\n",
              "186      Jul19  3.280000 -1.081548  ...   0.760000  3.190000        -13\n",
              "187      Ago19  3.390000  2.132288  ...   4.530000  3.140000        -10\n",
              "\n",
              "[188 rows x 10 columns]"
            ]
          },
          "metadata": {
            "tags": []
          },
          "execution_count": 11
        }
      ]
    },
    {
      "cell_type": "code",
      "metadata": {
        "id": "Wju9-HrHSwyh",
        "colab_type": "code",
        "outputId": "18de5f0a-d066-40a4-d8dc-8a1852af2351",
        "colab": {
          "base_uri": "https://localhost:8080/",
          "height": 406
        }
      },
      "source": [
        "csv=pd.read_csv('wine.csv')\n",
        "csv"
      ],
      "execution_count": 0,
      "outputs": [
        {
          "output_type": "execute_result",
          "data": {
            "text/html": [
              "<div>\n",
              "<style scoped>\n",
              "    .dataframe tbody tr th:only-of-type {\n",
              "        vertical-align: middle;\n",
              "    }\n",
              "\n",
              "    .dataframe tbody tr th {\n",
              "        vertical-align: top;\n",
              "    }\n",
              "\n",
              "    .dataframe thead th {\n",
              "        text-align: right;\n",
              "    }\n",
              "</style>\n",
              "<table border=\"1\" class=\"dataframe\">\n",
              "  <thead>\n",
              "    <tr style=\"text-align: right;\">\n",
              "      <th></th>\n",
              "      <th>Wine</th>\n",
              "      <th>Alcohol</th>\n",
              "      <th>Malic.acid</th>\n",
              "      <th>Ash</th>\n",
              "      <th>Acl</th>\n",
              "      <th>Mg</th>\n",
              "      <th>Phenols</th>\n",
              "      <th>Flavanoids</th>\n",
              "      <th>Nonflavanoid.phenols</th>\n",
              "      <th>Proanth</th>\n",
              "      <th>Color.int</th>\n",
              "      <th>Hue</th>\n",
              "      <th>OD</th>\n",
              "      <th>Proline</th>\n",
              "    </tr>\n",
              "  </thead>\n",
              "  <tbody>\n",
              "    <tr>\n",
              "      <th>0</th>\n",
              "      <td>1</td>\n",
              "      <td>14.23</td>\n",
              "      <td>1.71</td>\n",
              "      <td>2.43</td>\n",
              "      <td>15.6</td>\n",
              "      <td>127</td>\n",
              "      <td>2.80</td>\n",
              "      <td>3.06</td>\n",
              "      <td>0.28</td>\n",
              "      <td>2.29</td>\n",
              "      <td>5.64</td>\n",
              "      <td>1.04</td>\n",
              "      <td>3.92</td>\n",
              "      <td>1065</td>\n",
              "    </tr>\n",
              "    <tr>\n",
              "      <th>1</th>\n",
              "      <td>1</td>\n",
              "      <td>13.20</td>\n",
              "      <td>1.78</td>\n",
              "      <td>2.14</td>\n",
              "      <td>11.2</td>\n",
              "      <td>100</td>\n",
              "      <td>2.65</td>\n",
              "      <td>2.76</td>\n",
              "      <td>0.26</td>\n",
              "      <td>1.28</td>\n",
              "      <td>4.38</td>\n",
              "      <td>1.05</td>\n",
              "      <td>3.40</td>\n",
              "      <td>1050</td>\n",
              "    </tr>\n",
              "    <tr>\n",
              "      <th>2</th>\n",
              "      <td>1</td>\n",
              "      <td>13.16</td>\n",
              "      <td>2.36</td>\n",
              "      <td>2.67</td>\n",
              "      <td>18.6</td>\n",
              "      <td>101</td>\n",
              "      <td>2.80</td>\n",
              "      <td>3.24</td>\n",
              "      <td>0.30</td>\n",
              "      <td>2.81</td>\n",
              "      <td>5.68</td>\n",
              "      <td>1.03</td>\n",
              "      <td>3.17</td>\n",
              "      <td>1185</td>\n",
              "    </tr>\n",
              "    <tr>\n",
              "      <th>3</th>\n",
              "      <td>1</td>\n",
              "      <td>14.37</td>\n",
              "      <td>1.95</td>\n",
              "      <td>2.50</td>\n",
              "      <td>16.8</td>\n",
              "      <td>113</td>\n",
              "      <td>3.85</td>\n",
              "      <td>3.49</td>\n",
              "      <td>0.24</td>\n",
              "      <td>2.18</td>\n",
              "      <td>7.80</td>\n",
              "      <td>0.86</td>\n",
              "      <td>3.45</td>\n",
              "      <td>1480</td>\n",
              "    </tr>\n",
              "    <tr>\n",
              "      <th>4</th>\n",
              "      <td>1</td>\n",
              "      <td>13.24</td>\n",
              "      <td>2.59</td>\n",
              "      <td>2.87</td>\n",
              "      <td>21.0</td>\n",
              "      <td>118</td>\n",
              "      <td>2.80</td>\n",
              "      <td>2.69</td>\n",
              "      <td>0.39</td>\n",
              "      <td>1.82</td>\n",
              "      <td>4.32</td>\n",
              "      <td>1.04</td>\n",
              "      <td>2.93</td>\n",
              "      <td>735</td>\n",
              "    </tr>\n",
              "    <tr>\n",
              "      <th>...</th>\n",
              "      <td>...</td>\n",
              "      <td>...</td>\n",
              "      <td>...</td>\n",
              "      <td>...</td>\n",
              "      <td>...</td>\n",
              "      <td>...</td>\n",
              "      <td>...</td>\n",
              "      <td>...</td>\n",
              "      <td>...</td>\n",
              "      <td>...</td>\n",
              "      <td>...</td>\n",
              "      <td>...</td>\n",
              "      <td>...</td>\n",
              "      <td>...</td>\n",
              "    </tr>\n",
              "    <tr>\n",
              "      <th>173</th>\n",
              "      <td>3</td>\n",
              "      <td>13.71</td>\n",
              "      <td>5.65</td>\n",
              "      <td>2.45</td>\n",
              "      <td>20.5</td>\n",
              "      <td>95</td>\n",
              "      <td>1.68</td>\n",
              "      <td>0.61</td>\n",
              "      <td>0.52</td>\n",
              "      <td>1.06</td>\n",
              "      <td>7.70</td>\n",
              "      <td>0.64</td>\n",
              "      <td>1.74</td>\n",
              "      <td>740</td>\n",
              "    </tr>\n",
              "    <tr>\n",
              "      <th>174</th>\n",
              "      <td>3</td>\n",
              "      <td>13.40</td>\n",
              "      <td>3.91</td>\n",
              "      <td>2.48</td>\n",
              "      <td>23.0</td>\n",
              "      <td>102</td>\n",
              "      <td>1.80</td>\n",
              "      <td>0.75</td>\n",
              "      <td>0.43</td>\n",
              "      <td>1.41</td>\n",
              "      <td>7.30</td>\n",
              "      <td>0.70</td>\n",
              "      <td>1.56</td>\n",
              "      <td>750</td>\n",
              "    </tr>\n",
              "    <tr>\n",
              "      <th>175</th>\n",
              "      <td>3</td>\n",
              "      <td>13.27</td>\n",
              "      <td>4.28</td>\n",
              "      <td>2.26</td>\n",
              "      <td>20.0</td>\n",
              "      <td>120</td>\n",
              "      <td>1.59</td>\n",
              "      <td>0.69</td>\n",
              "      <td>0.43</td>\n",
              "      <td>1.35</td>\n",
              "      <td>10.20</td>\n",
              "      <td>0.59</td>\n",
              "      <td>1.56</td>\n",
              "      <td>835</td>\n",
              "    </tr>\n",
              "    <tr>\n",
              "      <th>176</th>\n",
              "      <td>3</td>\n",
              "      <td>13.17</td>\n",
              "      <td>2.59</td>\n",
              "      <td>2.37</td>\n",
              "      <td>20.0</td>\n",
              "      <td>120</td>\n",
              "      <td>1.65</td>\n",
              "      <td>0.68</td>\n",
              "      <td>0.53</td>\n",
              "      <td>1.46</td>\n",
              "      <td>9.30</td>\n",
              "      <td>0.60</td>\n",
              "      <td>1.62</td>\n",
              "      <td>840</td>\n",
              "    </tr>\n",
              "    <tr>\n",
              "      <th>177</th>\n",
              "      <td>3</td>\n",
              "      <td>14.13</td>\n",
              "      <td>4.10</td>\n",
              "      <td>2.74</td>\n",
              "      <td>24.5</td>\n",
              "      <td>96</td>\n",
              "      <td>2.05</td>\n",
              "      <td>0.76</td>\n",
              "      <td>0.56</td>\n",
              "      <td>1.35</td>\n",
              "      <td>9.20</td>\n",
              "      <td>0.61</td>\n",
              "      <td>1.60</td>\n",
              "      <td>560</td>\n",
              "    </tr>\n",
              "  </tbody>\n",
              "</table>\n",
              "<p>178 rows × 14 columns</p>\n",
              "</div>"
            ],
            "text/plain": [
              "     Wine  Alcohol  Malic.acid   Ash  ...  Color.int   Hue    OD  Proline\n",
              "0       1    14.23        1.71  2.43  ...       5.64  1.04  3.92     1065\n",
              "1       1    13.20        1.78  2.14  ...       4.38  1.05  3.40     1050\n",
              "2       1    13.16        2.36  2.67  ...       5.68  1.03  3.17     1185\n",
              "3       1    14.37        1.95  2.50  ...       7.80  0.86  3.45     1480\n",
              "4       1    13.24        2.59  2.87  ...       4.32  1.04  2.93      735\n",
              "..    ...      ...         ...   ...  ...        ...   ...   ...      ...\n",
              "173     3    13.71        5.65  2.45  ...       7.70  0.64  1.74      740\n",
              "174     3    13.40        3.91  2.48  ...       7.30  0.70  1.56      750\n",
              "175     3    13.27        4.28  2.26  ...      10.20  0.59  1.56      835\n",
              "176     3    13.17        2.59  2.37  ...       9.30  0.60  1.62      840\n",
              "177     3    14.13        4.10  2.74  ...       9.20  0.61  1.60      560\n",
              "\n",
              "[178 rows x 14 columns]"
            ]
          },
          "metadata": {
            "tags": []
          },
          "execution_count": 76
        }
      ]
    },
    {
      "cell_type": "code",
      "metadata": {
        "id": "YsBvTMayT3Yc",
        "colab_type": "code",
        "outputId": "736b3df7-7f42-4e22-ee37-a0e4866e5529",
        "colab": {
          "base_uri": "https://localhost:8080/",
          "height": 265
        }
      },
      "source": [
        "copa=pd.read_html('https://gist.github.com/tijptjik/9408623#file-wine-csv')\n",
        "copa"
      ],
      "execution_count": 0,
      "outputs": [
        {
          "output_type": "execute_result",
          "data": {
            "text/plain": [
              "[     Unnamed: 0  Wine  Alcohol  Malic.acid  ...  Color.int   Hue    OD  Proline\n",
              " 0           NaN     1    14.23        1.71  ...       5.64  1.04  3.92     1065\n",
              " 1           NaN     1    13.20        1.78  ...       4.38  1.05  3.40     1050\n",
              " 2           NaN     1    13.16        2.36  ...       5.68  1.03  3.17     1185\n",
              " 3           NaN     1    14.37        1.95  ...       7.80  0.86  3.45     1480\n",
              " 4           NaN     1    13.24        2.59  ...       4.32  1.04  2.93      735\n",
              " ..          ...   ...      ...         ...  ...        ...   ...   ...      ...\n",
              " 173         NaN     3    13.71        5.65  ...       7.70  0.64  1.74      740\n",
              " 174         NaN     3    13.40        3.91  ...       7.30  0.70  1.56      750\n",
              " 175         NaN     3    13.27        4.28  ...      10.20  0.59  1.56      835\n",
              " 176         NaN     3    13.17        2.59  ...       9.30  0.60  1.62      840\n",
              " 177         NaN     3    14.13        4.10  ...       9.20  0.61  1.60      560\n",
              " \n",
              " [178 rows x 15 columns]]"
            ]
          },
          "metadata": {
            "tags": []
          },
          "execution_count": 16
        }
      ]
    },
    {
      "cell_type": "markdown",
      "metadata": {
        "id": "pMUDTwpYU8C7",
        "colab_type": "text"
      },
      "source": [
        "**Análisis básico en Pandas**"
      ]
    },
    {
      "cell_type": "code",
      "metadata": {
        "id": "KystqxYmXaXb",
        "colab_type": "code",
        "outputId": "3ec35f32-d7e7-4d88-b831-cddb2509f4a3",
        "colab": {
          "base_uri": "https://localhost:8080/",
          "height": 197
        }
      },
      "source": [
        "#Visualizar parte de la data\n",
        "excel.head()"
      ],
      "execution_count": 0,
      "outputs": [
        {
          "output_type": "execute_result",
          "data": {
            "text/html": [
              "<div>\n",
              "<style scoped>\n",
              "    .dataframe tbody tr th:only-of-type {\n",
              "        vertical-align: middle;\n",
              "    }\n",
              "\n",
              "    .dataframe tbody tr th {\n",
              "        vertical-align: top;\n",
              "    }\n",
              "\n",
              "    .dataframe thead th {\n",
              "        text-align: right;\n",
              "    }\n",
              "</style>\n",
              "<table border=\"1\" class=\"dataframe\">\n",
              "  <thead>\n",
              "    <tr style=\"text-align: right;\">\n",
              "      <th></th>\n",
              "      <th>Unnamed: 0</th>\n",
              "      <th>pbi</th>\n",
              "      <th>agro</th>\n",
              "      <th>pes</th>\n",
              "      <th>myh</th>\n",
              "      <th>man</th>\n",
              "      <th>eya</th>\n",
              "      <th>con</th>\n",
              "      <th>com</th>\n",
              "      <th>aleatorio</th>\n",
              "    </tr>\n",
              "  </thead>\n",
              "  <tbody>\n",
              "    <tr>\n",
              "      <th>0</th>\n",
              "      <td>Ene04</td>\n",
              "      <td>3.674966</td>\n",
              "      <td>3.270309</td>\n",
              "      <td>61.902124</td>\n",
              "      <td>4.776828</td>\n",
              "      <td>7.801136</td>\n",
              "      <td>2.557386</td>\n",
              "      <td>10.993667</td>\n",
              "      <td>0.397278</td>\n",
              "      <td>10</td>\n",
              "    </tr>\n",
              "    <tr>\n",
              "      <th>1</th>\n",
              "      <td>Feb04</td>\n",
              "      <td>4.245959</td>\n",
              "      <td>3.452198</td>\n",
              "      <td>27.829872</td>\n",
              "      <td>12.111244</td>\n",
              "      <td>2.173426</td>\n",
              "      <td>5.972559</td>\n",
              "      <td>2.716271</td>\n",
              "      <td>2.699564</td>\n",
              "      <td>7</td>\n",
              "    </tr>\n",
              "    <tr>\n",
              "      <th>2</th>\n",
              "      <td>Mar04</td>\n",
              "      <td>5.774257</td>\n",
              "      <td>2.545452</td>\n",
              "      <td>72.615069</td>\n",
              "      <td>6.970734</td>\n",
              "      <td>7.816418</td>\n",
              "      <td>4.580293</td>\n",
              "      <td>9.645661</td>\n",
              "      <td>4.360081</td>\n",
              "      <td>12</td>\n",
              "    </tr>\n",
              "    <tr>\n",
              "      <th>3</th>\n",
              "      <td>Abr04</td>\n",
              "      <td>4.247995</td>\n",
              "      <td>-3.179112</td>\n",
              "      <td>-2.356438</td>\n",
              "      <td>8.424624</td>\n",
              "      <td>2.982182</td>\n",
              "      <td>5.482907</td>\n",
              "      <td>8.820288</td>\n",
              "      <td>3.814925</td>\n",
              "      <td>-11</td>\n",
              "    </tr>\n",
              "    <tr>\n",
              "      <th>4</th>\n",
              "      <td>May04</td>\n",
              "      <td>3.950757</td>\n",
              "      <td>-1.748244</td>\n",
              "      <td>45.955804</td>\n",
              "      <td>0.031112</td>\n",
              "      <td>7.502775</td>\n",
              "      <td>5.244535</td>\n",
              "      <td>4.440325</td>\n",
              "      <td>5.025204</td>\n",
              "      <td>-3</td>\n",
              "    </tr>\n",
              "  </tbody>\n",
              "</table>\n",
              "</div>"
            ],
            "text/plain": [
              "  Unnamed: 0       pbi      agro  ...        con       com  aleatorio\n",
              "0      Ene04  3.674966  3.270309  ...  10.993667  0.397278         10\n",
              "1      Feb04  4.245959  3.452198  ...   2.716271  2.699564          7\n",
              "2      Mar04  5.774257  2.545452  ...   9.645661  4.360081         12\n",
              "3      Abr04  4.247995 -3.179112  ...   8.820288  3.814925        -11\n",
              "4      May04  3.950757 -1.748244  ...   4.440325  5.025204         -3\n",
              "\n",
              "[5 rows x 10 columns]"
            ]
          },
          "metadata": {
            "tags": []
          },
          "execution_count": 22
        }
      ]
    },
    {
      "cell_type": "code",
      "metadata": {
        "id": "h0GTaNGbXoja",
        "colab_type": "code",
        "outputId": "daa15c14-735e-4a8e-ca77-8420fb6bbfce",
        "colab": {
          "base_uri": "https://localhost:8080/",
          "height": 287
        }
      },
      "source": [
        "#Métricas básicas de la data\n",
        "excel.describe()"
      ],
      "execution_count": 0,
      "outputs": [
        {
          "output_type": "execute_result",
          "data": {
            "text/html": [
              "<div>\n",
              "<style scoped>\n",
              "    .dataframe tbody tr th:only-of-type {\n",
              "        vertical-align: middle;\n",
              "    }\n",
              "\n",
              "    .dataframe tbody tr th {\n",
              "        vertical-align: top;\n",
              "    }\n",
              "\n",
              "    .dataframe thead th {\n",
              "        text-align: right;\n",
              "    }\n",
              "</style>\n",
              "<table border=\"1\" class=\"dataframe\">\n",
              "  <thead>\n",
              "    <tr style=\"text-align: right;\">\n",
              "      <th></th>\n",
              "      <th>pbi</th>\n",
              "      <th>agro</th>\n",
              "      <th>pes</th>\n",
              "      <th>myh</th>\n",
              "      <th>man</th>\n",
              "      <th>eya</th>\n",
              "      <th>con</th>\n",
              "      <th>com</th>\n",
              "      <th>aleatorio</th>\n",
              "    </tr>\n",
              "  </thead>\n",
              "  <tbody>\n",
              "    <tr>\n",
              "      <th>count</th>\n",
              "      <td>188.000000</td>\n",
              "      <td>188.000000</td>\n",
              "      <td>188.000000</td>\n",
              "      <td>188.000000</td>\n",
              "      <td>188.000000</td>\n",
              "      <td>188.000000</td>\n",
              "      <td>188.000000</td>\n",
              "      <td>188.000000</td>\n",
              "      <td>188.000000</td>\n",
              "    </tr>\n",
              "    <tr>\n",
              "      <th>mean</th>\n",
              "      <td>5.231232</td>\n",
              "      <td>4.056811</td>\n",
              "      <td>16.723509</td>\n",
              "      <td>4.390426</td>\n",
              "      <td>3.800774</td>\n",
              "      <td>5.810265</td>\n",
              "      <td>7.754334</td>\n",
              "      <td>6.055569</td>\n",
              "      <td>-0.186170</td>\n",
              "    </tr>\n",
              "    <tr>\n",
              "      <th>std</th>\n",
              "      <td>3.096328</td>\n",
              "      <td>4.445462</td>\n",
              "      <td>66.148991</td>\n",
              "      <td>6.486012</td>\n",
              "      <td>7.410958</td>\n",
              "      <td>2.787752</td>\n",
              "      <td>10.621040</td>\n",
              "      <td>5.307236</td>\n",
              "      <td>11.938901</td>\n",
              "    </tr>\n",
              "    <tr>\n",
              "      <th>min</th>\n",
              "      <td>-2.962245</td>\n",
              "      <td>-8.823243</td>\n",
              "      <td>-77.114582</td>\n",
              "      <td>-6.059507</td>\n",
              "      <td>-14.586329</td>\n",
              "      <td>-2.150264</td>\n",
              "      <td>-19.870754</td>\n",
              "      <td>-10.250991</td>\n",
              "      <td>-20.000000</td>\n",
              "    </tr>\n",
              "    <tr>\n",
              "      <th>25%</th>\n",
              "      <td>3.038557</td>\n",
              "      <td>1.308374</td>\n",
              "      <td>-16.522826</td>\n",
              "      <td>-0.570185</td>\n",
              "      <td>-1.153214</td>\n",
              "      <td>4.551000</td>\n",
              "      <td>0.532472</td>\n",
              "      <td>2.690267</td>\n",
              "      <td>-10.000000</td>\n",
              "    </tr>\n",
              "    <tr>\n",
              "      <th>50%</th>\n",
              "      <td>4.945612</td>\n",
              "      <td>3.678416</td>\n",
              "      <td>5.744317</td>\n",
              "      <td>3.753592</td>\n",
              "      <td>3.329121</td>\n",
              "      <td>5.934253</td>\n",
              "      <td>6.600000</td>\n",
              "      <td>4.841160</td>\n",
              "      <td>0.000000</td>\n",
              "    </tr>\n",
              "    <tr>\n",
              "      <th>75%</th>\n",
              "      <td>7.107870</td>\n",
              "      <td>6.487475</td>\n",
              "      <td>30.867680</td>\n",
              "      <td>7.897238</td>\n",
              "      <td>9.773260</td>\n",
              "      <td>7.622122</td>\n",
              "      <td>15.368255</td>\n",
              "      <td>8.347466</td>\n",
              "      <td>10.000000</td>\n",
              "    </tr>\n",
              "    <tr>\n",
              "      <th>max</th>\n",
              "      <td>14.127077</td>\n",
              "      <td>19.716432</td>\n",
              "      <td>492.341684</td>\n",
              "      <td>33.019552</td>\n",
              "      <td>21.044227</td>\n",
              "      <td>14.210684</td>\n",
              "      <td>42.382280</td>\n",
              "      <td>24.190865</td>\n",
              "      <td>20.000000</td>\n",
              "    </tr>\n",
              "  </tbody>\n",
              "</table>\n",
              "</div>"
            ],
            "text/plain": [
              "              pbi        agro         pes  ...         con         com   aleatorio\n",
              "count  188.000000  188.000000  188.000000  ...  188.000000  188.000000  188.000000\n",
              "mean     5.231232    4.056811   16.723509  ...    7.754334    6.055569   -0.186170\n",
              "std      3.096328    4.445462   66.148991  ...   10.621040    5.307236   11.938901\n",
              "min     -2.962245   -8.823243  -77.114582  ...  -19.870754  -10.250991  -20.000000\n",
              "25%      3.038557    1.308374  -16.522826  ...    0.532472    2.690267  -10.000000\n",
              "50%      4.945612    3.678416    5.744317  ...    6.600000    4.841160    0.000000\n",
              "75%      7.107870    6.487475   30.867680  ...   15.368255    8.347466   10.000000\n",
              "max     14.127077   19.716432  492.341684  ...   42.382280   24.190865   20.000000\n",
              "\n",
              "[8 rows x 9 columns]"
            ]
          },
          "metadata": {
            "tags": []
          },
          "execution_count": 79
        }
      ]
    },
    {
      "cell_type": "code",
      "metadata": {
        "id": "3HZ8RcB-X-OO",
        "colab_type": "code",
        "outputId": "f10b3786-65d9-449d-bd8e-0efd44fb1734",
        "colab": {
          "base_uri": "https://localhost:8080/",
          "height": 34
        }
      },
      "source": [
        "#Informacion del dataframe\n",
        "excel.shape"
      ],
      "execution_count": 0,
      "outputs": [
        {
          "output_type": "execute_result",
          "data": {
            "text/plain": [
              "(188, 10)"
            ]
          },
          "metadata": {
            "tags": []
          },
          "execution_count": 33
        }
      ]
    },
    {
      "cell_type": "code",
      "metadata": {
        "id": "2dNb-cJbYTmu",
        "colab_type": "code",
        "outputId": "d1deefae-400b-4037-c40e-4d471dffbced",
        "colab": {
          "base_uri": "https://localhost:8080/",
          "height": 230
        }
      },
      "source": [
        "excel.iloc[:,0]"
      ],
      "execution_count": 0,
      "outputs": [
        {
          "output_type": "execute_result",
          "data": {
            "text/plain": [
              "0      Ene04\n",
              "1      Feb04\n",
              "2      Mar04\n",
              "3      Abr04\n",
              "4      May04\n",
              "       ...  \n",
              "183    Abr19\n",
              "184    May19\n",
              "185    Jun19\n",
              "186    Jul19\n",
              "187    Ago19\n",
              "Name: Unnamed: 0, Length: 188, dtype: object"
            ]
          },
          "metadata": {
            "tags": []
          },
          "execution_count": 37
        }
      ]
    },
    {
      "cell_type": "code",
      "metadata": {
        "id": "lxUuZkKQhNO0",
        "colab_type": "code",
        "outputId": "f96e85d2-c822-44e5-ee95-621fb6f8c763",
        "colab": {
          "base_uri": "https://localhost:8080/",
          "height": 406
        }
      },
      "source": [
        "excel.iloc[:,0:2]"
      ],
      "execution_count": 0,
      "outputs": [
        {
          "output_type": "execute_result",
          "data": {
            "text/html": [
              "<div>\n",
              "<style scoped>\n",
              "    .dataframe tbody tr th:only-of-type {\n",
              "        vertical-align: middle;\n",
              "    }\n",
              "\n",
              "    .dataframe tbody tr th {\n",
              "        vertical-align: top;\n",
              "    }\n",
              "\n",
              "    .dataframe thead th {\n",
              "        text-align: right;\n",
              "    }\n",
              "</style>\n",
              "<table border=\"1\" class=\"dataframe\">\n",
              "  <thead>\n",
              "    <tr style=\"text-align: right;\">\n",
              "      <th></th>\n",
              "      <th>Unnamed: 0</th>\n",
              "      <th>pbi</th>\n",
              "    </tr>\n",
              "  </thead>\n",
              "  <tbody>\n",
              "    <tr>\n",
              "      <th>0</th>\n",
              "      <td>Ene04</td>\n",
              "      <td>3.674966</td>\n",
              "    </tr>\n",
              "    <tr>\n",
              "      <th>1</th>\n",
              "      <td>Feb04</td>\n",
              "      <td>4.245959</td>\n",
              "    </tr>\n",
              "    <tr>\n",
              "      <th>2</th>\n",
              "      <td>Mar04</td>\n",
              "      <td>5.774257</td>\n",
              "    </tr>\n",
              "    <tr>\n",
              "      <th>3</th>\n",
              "      <td>Abr04</td>\n",
              "      <td>4.247995</td>\n",
              "    </tr>\n",
              "    <tr>\n",
              "      <th>4</th>\n",
              "      <td>May04</td>\n",
              "      <td>3.950757</td>\n",
              "    </tr>\n",
              "    <tr>\n",
              "      <th>...</th>\n",
              "      <td>...</td>\n",
              "      <td>...</td>\n",
              "    </tr>\n",
              "    <tr>\n",
              "      <th>183</th>\n",
              "      <td>Abr19</td>\n",
              "      <td>0.186118</td>\n",
              "    </tr>\n",
              "    <tr>\n",
              "      <th>184</th>\n",
              "      <td>May19</td>\n",
              "      <td>0.710580</td>\n",
              "    </tr>\n",
              "    <tr>\n",
              "      <th>185</th>\n",
              "      <td>Jun19</td>\n",
              "      <td>2.620719</td>\n",
              "    </tr>\n",
              "    <tr>\n",
              "      <th>186</th>\n",
              "      <td>Jul19</td>\n",
              "      <td>3.280000</td>\n",
              "    </tr>\n",
              "    <tr>\n",
              "      <th>187</th>\n",
              "      <td>Ago19</td>\n",
              "      <td>3.390000</td>\n",
              "    </tr>\n",
              "  </tbody>\n",
              "</table>\n",
              "<p>188 rows × 2 columns</p>\n",
              "</div>"
            ],
            "text/plain": [
              "    Unnamed: 0       pbi\n",
              "0        Ene04  3.674966\n",
              "1        Feb04  4.245959\n",
              "2        Mar04  5.774257\n",
              "3        Abr04  4.247995\n",
              "4        May04  3.950757\n",
              "..         ...       ...\n",
              "183      Abr19  0.186118\n",
              "184      May19  0.710580\n",
              "185      Jun19  2.620719\n",
              "186      Jul19  3.280000\n",
              "187      Ago19  3.390000\n",
              "\n",
              "[188 rows x 2 columns]"
            ]
          },
          "metadata": {
            "tags": []
          },
          "execution_count": 92
        }
      ]
    },
    {
      "cell_type": "code",
      "metadata": {
        "id": "0JICWvXF12CF",
        "colab_type": "code",
        "outputId": "905dff10-d756-473d-f6d8-f4ddd67c7975",
        "colab": {
          "base_uri": "https://localhost:8080/",
          "height": 70
        }
      },
      "source": [
        "columnas=excel.columns\n",
        "columnas"
      ],
      "execution_count": 0,
      "outputs": [
        {
          "output_type": "execute_result",
          "data": {
            "text/plain": [
              "Index(['Unnamed: 0', 'pbi', 'agro', 'pes', 'myh', 'man', 'eya', 'con', 'com',\n",
              "       'aleatorio'],\n",
              "      dtype='object')"
            ]
          },
          "metadata": {
            "tags": []
          },
          "execution_count": 95
        }
      ]
    },
    {
      "cell_type": "code",
      "metadata": {
        "id": "3KqkBypZ3jw1",
        "colab_type": "code",
        "outputId": "139a0644-46df-47e9-bccb-6d800568d8e4",
        "colab": {
          "base_uri": "https://localhost:8080/",
          "height": 34
        }
      },
      "source": [
        "type(columnas)"
      ],
      "execution_count": 0,
      "outputs": [
        {
          "output_type": "execute_result",
          "data": {
            "text/plain": [
              "pandas.core.indexes.base.Index"
            ]
          },
          "metadata": {
            "tags": []
          },
          "execution_count": 96
        }
      ]
    },
    {
      "cell_type": "code",
      "metadata": {
        "id": "SgvyuDAR5qEi",
        "colab_type": "code",
        "outputId": "cf99cd18-bff7-446b-83e5-1073e962dff1",
        "colab": {
          "base_uri": "https://localhost:8080/",
          "height": 34
        }
      },
      "source": [
        "len(excel)"
      ],
      "execution_count": 0,
      "outputs": [
        {
          "output_type": "execute_result",
          "data": {
            "text/plain": [
              "188"
            ]
          },
          "metadata": {
            "tags": []
          },
          "execution_count": 98
        }
      ]
    },
    {
      "cell_type": "code",
      "metadata": {
        "id": "Z1SJw7zy4Kqu",
        "colab_type": "code",
        "colab": {}
      },
      "source": [
        ""
      ],
      "execution_count": 0,
      "outputs": []
    }
  ]
}